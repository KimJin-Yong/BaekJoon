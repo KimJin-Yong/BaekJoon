{
  "nbformat": 4,
  "nbformat_minor": 0,
  "metadata": {
    "colab": {
      "provenance": [],
      "authorship_tag": "ABX9TyNPpuci2e6jF4NgAPgjVGhl",
      "include_colab_link": true
    },
    "kernelspec": {
      "name": "python3",
      "display_name": "Python 3"
    },
    "language_info": {
      "name": "python"
    }
  },
  "cells": [
    {
      "cell_type": "markdown",
      "metadata": {
        "id": "view-in-github",
        "colab_type": "text"
      },
      "source": [
        "<a href=\"https://colab.research.google.com/github/KimJin-Yong/BaekJoon/blob/main/BaekjoonQueue.ipynb\" target=\"_parent\"><img src=\"https://colab.research.google.com/assets/colab-badge.svg\" alt=\"Open In Colab\"/></a>"
      ]
    },
    {
      "cell_type": "code",
      "execution_count": null,
      "metadata": {
        "colab": {
          "base_uri": "https://localhost:8080/"
        },
        "id": "003EpWo-_NC-",
        "outputId": "0a0060f9-65c8-4b0b-dd85-fedd82ca5535"
      },
      "outputs": [
        {
          "output_type": "stream",
          "name": "stdout",
          "text": [
            "111\n",
            "94\n"
          ]
        }
      ],
      "source": [
        "# baekjoon 2164\n",
        "from collections import deque\n",
        "\n",
        "deck = deque([_+1 for _ in range(int(input()))])\n",
        "\n",
        "while True:\n",
        "  if len(deck) == 1:\n",
        "    print(deck[0])\n",
        "    break\n",
        "  else:\n",
        "    deck.popleft()\n",
        "    deck.append(deck.popleft())"
      ]
    },
    {
      "cell_type": "code",
      "source": [
        "# baekjoon 11866 josephus\n",
        "\n",
        "from collections import deque\n",
        "\n",
        "num, waits = map(int, input().split())\n",
        "army = deque([_+1 for _ in range(num)])\n",
        "\n",
        "count = 0\n",
        "ans = []\n",
        "while True:\n",
        "  count += 1\n",
        "  if len(army) == 0:\n",
        "    ans = ', '.join(map(str, ans))\n",
        "    print(f'<{ans}>')\n",
        "    break\n",
        "  elif count == waits:\n",
        "    count = 0\n",
        "    ans.append(army.popleft())\n",
        "  else:\n",
        "    army.append(army.popleft())"
      ],
      "metadata": {
        "colab": {
          "base_uri": "https://localhost:8080/"
        },
        "id": "P030rK7oQ23H",
        "outputId": "23f084b6-8b22-453a-86c1-60591df82b9a"
      },
      "execution_count": null,
      "outputs": [
        {
          "output_type": "stream",
          "name": "stdout",
          "text": [
            "7 3\n",
            "<3, 6, 2, 7, 5, 1, 4>\n"
          ]
        }
      ]
    }
  ]
}