{
  "nbformat": 4,
  "nbformat_minor": 0,
  "metadata": {
    "colab": {
      "provenance": [],
      "authorship_tag": "ABX9TyMwFl7p2gJ2gNcIfayHzEmT",
      "include_colab_link": true
    },
    "kernelspec": {
      "name": "python3",
      "display_name": "Python 3"
    },
    "language_info": {
      "name": "python"
    }
  },
  "cells": [
    {
      "cell_type": "markdown",
      "metadata": {
        "id": "view-in-github",
        "colab_type": "text"
      },
      "source": [
        "<a href=\"https://colab.research.google.com/github/KimJin-Yong/BaekJoon/blob/main/BaekjoonDP.ipynb\" target=\"_parent\"><img src=\"https://colab.research.google.com/assets/colab-badge.svg\" alt=\"Open In Colab\"/></a>"
      ]
    },
    {
      "cell_type": "code",
      "execution_count": null,
      "metadata": {
        "colab": {
          "base_uri": "https://localhost:8080/"
        },
        "id": "lvd1Ch4P-xeV",
        "outputId": "4caa0fc9-4075-4688-9a45-2b18a5508d67"
      },
      "outputs": [
        {
          "output_type": "stream",
          "name": "stdout",
          "text": [
            "8\n",
            "71 39 44\n",
            "32 83 55\n",
            "51 37 63\n",
            "89 29 100\n",
            "83 58 11\n",
            "65 13 15\n",
            "47 25 29\n",
            "60 66 19\n",
            "253\n"
          ]
        }
      ],
      "source": [
        "# baekjoon 1149\n",
        "\n",
        "iter = int(input())\n",
        "\n",
        "cost = []\n",
        "for i in range(iter):\n",
        "  cost.append(list(map(int, input().split())))\n",
        "\n",
        "dp = [[0]*3 for i in range(iter)]\n",
        "\n",
        "dp[0] = cost[0]\n",
        "\n",
        "for i in range(1, iter):\n",
        "  for j in range(3):\n",
        "    dp[i][j] = min(dp[i-1][j-1], dp[i-1][j-2]) + cost[i][j]\n",
        "\n",
        "print(min(dp[-1]))"
      ]
    },
    {
      "cell_type": "code",
      "source": [
        "# baekjoon 1932\n",
        "\n",
        "n = int(input())\n",
        "\n",
        "tree=[]\n",
        "for i in range(n):\n",
        "  tree.append(list(map(int, input().split())))\n",
        "\n",
        "dp = [[0]*(i+1) for i in range(n)]\n",
        "dp[0] = tree[0]\n",
        "\n",
        "for i in range(1,n):\n",
        "  dp[i][0] = dp[i-1][0] + tree[i][0]\n",
        "  for j in range(1,i):\n",
        "    dp[i][j] = max(dp[i-1][j-1], dp[i-1][j]) + tree[i][j]\n",
        "  dp[i][i] = dp[i-1][i-1] + tree[i][i]\n",
        "\n",
        "print(max(dp[-1]))"
      ],
      "metadata": {
        "colab": {
          "base_uri": "https://localhost:8080/"
        },
        "id": "GA-IL7jVdBfc",
        "outputId": "b7b143d3-9f46-4377-fdd8-e5c922740634"
      },
      "execution_count": null,
      "outputs": [
        {
          "output_type": "stream",
          "name": "stdout",
          "text": [
            "5\n",
            "7\n",
            "3 8\n",
            "8 1 0\n",
            "2 7 4 4\n",
            "4 5 2 6 5\n",
            "30\n"
          ]
        }
      ]
    },
    {
      "cell_type": "code",
      "source": [
        "# baekjoon 2579\n",
        "\n",
        "def high(ans, arr, x):\n",
        "  return max(ans[x-2], ans[x-3]+arr[x-1]) + arr[x]\n",
        "\n",
        "num = int(input())\n",
        "\n",
        "stairs=[]\n",
        "for i in range(num):\n",
        "  stairs.append(int(input()))\n",
        "\n",
        "ans = [0]*(num)\n",
        "ans[0] = stairs[0]\n",
        "if num >= 2: ans[1] = stairs[0] + stairs[1]\n",
        "if num >= 3: ans[2] = max(stairs[0], stairs[1]) + stairs[2]\n",
        "for i in range(3, num): ans[i] = high(ans,stairs,i)\n",
        "print(ans[-1])"
      ],
      "metadata": {
        "colab": {
          "base_uri": "https://localhost:8080/"
        },
        "id": "hfEsa1Vb9IIl",
        "outputId": "99bd3a10-8eaa-47e2-a876-e0ed26ad8c63"
      },
      "execution_count": null,
      "outputs": [
        {
          "output_type": "stream",
          "name": "stdout",
          "text": [
            "7\n",
            "10\n",
            "20\n",
            "15\n",
            "25\n",
            "10\n",
            "20\n",
            "100\n",
            "175\n"
          ]
        }
      ]
    },
    {
      "cell_type": "code",
      "source": [
        "# baekjoon 11659 prefix sum\n",
        "\n",
        "length, iter = map(int, input().split())\n",
        "series = list(map(int, input().split()))\n",
        "\n",
        "prefixed = [0]*(length+1)\n",
        "for i in range(length):\n",
        "  prefixed[i+1] = prefixed[i] + series[i]\n",
        "\n",
        "for i in range(iter):\n",
        "  start, end = map(int, input().split())\n",
        "  print(prefixed[end] - prefixed[start-1])"
      ],
      "metadata": {
        "colab": {
          "base_uri": "https://localhost:8080/"
        },
        "id": "amY67ANGil76",
        "outputId": "c85cbeb6-aad5-4c21-d6cb-4c2df1df632a"
      },
      "execution_count": null,
      "outputs": [
        {
          "name": "stdout",
          "output_type": "stream",
          "text": [
            "5 3\n",
            "5 4 3 2 1\n"
          ]
        }
      ]
    },
    {
      "cell_type": "code",
      "source": [
        "# baekjoon 1463\n",
        "\n",
        "num = int(input())\n",
        "\n",
        "dp = [[num]]\n",
        "def recur(arr, count):\n",
        "  global dp\n",
        "  dp.append([])\n",
        "  for num in arr:\n",
        "    if num == 1:\n",
        "      return count\n",
        "    if num % 3 == 0:\n",
        "      dp[-1].append(num//3)\n",
        "    if num % 2 == 0:\n",
        "      dp[-1].append(num//2)\n",
        "    dp[-1].append(num-1)\n",
        "  return recur(list(set(dp[-1])), count+1)\n",
        "\n",
        "print(recur(dp[0], 0))"
      ],
      "metadata": {
        "colab": {
          "base_uri": "https://localhost:8080/"
        },
        "id": "ZDhDfFxHq8TD",
        "outputId": "6a5ece5f-bd5b-484b-e73b-2f9c317668a8"
      },
      "execution_count": null,
      "outputs": [
        {
          "output_type": "stream",
          "name": "stdout",
          "text": [
            "10000\n",
            "14\n"
          ]
        }
      ]
    },
    {
      "cell_type": "code",
      "source": [
        "# baekjoon 10844\n",
        "\n",
        "n = int(input())\n",
        "\n",
        "series = [[0]*10 for i in range(n)]\n",
        "series[0] = [0,1,1,1,1,1,1,1,1,1]\n",
        "for i in range(1,n):\n",
        "  series[i][0] = series[i-1][1]\n",
        "  for j in range(1,9):\n",
        "    series[i][j] = (series[i-1][j-1] + series[i-1][j+1]) % 1000000000\n",
        "  series[i][9] = series[i-1][8]\n",
        "print(sum(series[-1]) % 1000000000)"
      ],
      "metadata": {
        "colab": {
          "base_uri": "https://localhost:8080/"
        },
        "id": "oQc-EAwfMTPH",
        "outputId": "217ed7f8-ffa8-4525-aa3c-46918aa8023c"
      },
      "execution_count": null,
      "outputs": [
        {
          "output_type": "stream",
          "name": "stdout",
          "text": [
            "3\n",
            "[1, 3, 3, 4, 4, 4, 4, 4, 3, 2]\n"
          ]
        }
      ]
    },
    {
      "cell_type": "code",
      "source": [
        "# baekjoon 2156\n",
        "# could skip drinking vino more than twice times at the same time\n",
        "\n",
        "num = int(input())\n",
        "\n",
        "vino = [0]*num\n",
        "for i in range(num):\n",
        "  vino[i] = int(input())\n",
        "\n",
        "def drink(dp, arr,i):\n",
        "  return max(dp[i-2], dp[i-3] + arr[i-1]) + arr[i]\n",
        "\n",
        "ans = [0]*num\n",
        "ans[0] = vino[0]\n",
        "if num >=2: ans[1] = vino[0] + vino[1]\n",
        "if num >2: ans[2] = max(ans[1], vino[0]+vino[2], vino[1]+vino[2])\n",
        "for i in range(3,num):\n",
        "  ans[i] = max(drink(ans, vino, i), ans[i-1])\n",
        "print(ans[-1])"
      ],
      "metadata": {
        "colab": {
          "base_uri": "https://localhost:8080/"
        },
        "id": "0F-9f-SR7NEI",
        "outputId": "4ce818c8-f320-46bf-8489-a81a8d87c6f9"
      },
      "execution_count": null,
      "outputs": [
        {
          "output_type": "stream",
          "name": "stdout",
          "text": [
            "4\n",
            "400\n",
            "300\n",
            "200\n",
            "100\n",
            "work\n",
            "800\n"
          ]
        }
      ]
    },
    {
      "cell_type": "code",
      "source": [
        "# baekjoon 11053\n",
        "\n",
        "num = int(input())\n",
        "series = list(map(int, input().split()))\n",
        "\n",
        "dp = [1]*num\n",
        "for i in range(1,num):\n",
        "  for j in range(i):\n",
        "    if series[i] > series[j]:\n",
        "      dp[i] = max(dp[i], dp[j]+1)\n",
        "\n",
        "print(max(dp))"
      ],
      "metadata": {
        "colab": {
          "base_uri": "https://localhost:8080/"
        },
        "id": "fesrDKQeTEqc",
        "outputId": "5308b2a7-5a01-48c3-ae40-15a755cf87f7"
      },
      "execution_count": null,
      "outputs": [
        {
          "output_type": "stream",
          "name": "stdout",
          "text": [
            "8\n",
            "1 5 10 1 6 3 4 9\n",
            "4\n"
          ]
        }
      ]
    },
    {
      "cell_type": "code",
      "source": [
        "# baekjoon 11054\n",
        "\n",
        "def dynamic(iter, arr):\n",
        "  ans1 = [1]*iter\n",
        "  ans2 = [1]*iter\n",
        "  for i in range(iter):\n",
        "    for j in range(i):\n",
        "      if series[i] > series[j]:\n",
        "        ans1[i] = max(ans1[i], ans1[j]+1)\n",
        "      if series[iter-i-1] > series[iter-j-1]:\n",
        "        ans2[iter-i-1] = max(ans2[iter-i-1], ans2[iter-j-1]+1)\n",
        "\n",
        "  ans = [0]*iter\n",
        "  for i in range(iter):\n",
        "    ans[i] = ans1[i] + ans2[i] - 1\n",
        "\n",
        "  return max(ans)\n",
        "\n",
        "if __name__ == '__main__':\n",
        "  num = int(input())\n",
        "  series = list(map(int, input().split()))\n",
        "  print(dynamic(num, series))"
      ],
      "metadata": {
        "colab": {
          "base_uri": "https://localhost:8080/"
        },
        "id": "_jMxk3SYtFa7",
        "outputId": "b6576d6a-aef1-45e2-fffc-95c7deb37540"
      },
      "execution_count": null,
      "outputs": [
        {
          "output_type": "stream",
          "name": "stdout",
          "text": [
            "4\n",
            "1 3 4 2\n",
            "4\n"
          ]
        }
      ]
    },
    {
      "cell_type": "code",
      "source": [
        "# baekjoon 1260\n",
        "from collections import deque\n",
        "\n",
        "class Queue:\n",
        "  def __init__(self):\n",
        "    self.items = deque()\n",
        "\n",
        "  def push(self, item):\n",
        "    self.items.append(int(item))\n",
        "\n",
        "  def pop(self):\n",
        "    if self.empty(): return -1\n",
        "    else: return self.items.popleft()\n",
        "\n",
        "  def front(self):\n",
        "    if self.empty(): return -1\n",
        "    else: return self.items[0]\n",
        "\n",
        "  def back(self):\n",
        "    if self.empty(): return -1\n",
        "    else: return self.items[-1]\n",
        "\n",
        "  def empty(self):\n",
        "    if len(self.items) == 0: return 1\n",
        "    else: return 0\n",
        "\n",
        "  def size(self):\n",
        "    return len(self.items)\n",
        "\n",
        "if __name__ == '__main__':\n",
        "  q = Queue()\n",
        "\n",
        "  num = int(input())\n",
        "  for i in range(num):\n",
        "    read = input().split()\n",
        "    if read[0] == 'push': q.push(read[1])\n",
        "    elif read[0] == 'pop': print(q.pop())\n",
        "    elif read[0] == 'front': print(q.front())\n",
        "    elif read[0] == 'back': print(q.back())\n",
        "    elif read[0] == 'empty': print(q.empty())\n",
        "    elif read[0] == 'size': print(q.size())"
      ],
      "metadata": {
        "colab": {
          "base_uri": "https://localhost:8080/"
        },
        "id": "3UOAFfDd9bzN",
        "outputId": "3f08633e-4e73-407c-8510-07e0e28b2a13"
      },
      "execution_count": null,
      "outputs": [
        {
          "output_type": "stream",
          "name": "stdout",
          "text": [
            "15\n",
            "push 1\n",
            "push 2\n",
            "front\n",
            "1\n",
            "back\n",
            "2\n",
            "size\n",
            "2\n",
            "empty\n",
            "0\n",
            "pop\n",
            "1\n",
            "pop\n",
            "2\n",
            "pop\n",
            "-1\n",
            "size\n",
            "0\n",
            "empty\n",
            "1\n",
            "pop\n",
            "-1\n",
            "push 3\n",
            "empty\n",
            "0\n",
            "front\n",
            "3\n"
          ]
        }
      ]
    },
    {
      "cell_type": "code",
      "source": [
        "def relation(x,y):\n",
        "  if x%y == 0: return 'multiple'\n",
        "  elif y%x == 0: return 'factor'\n",
        "  else: return 'neither'\n",
        "\n",
        "if __name__ == '__main__':\n",
        "  while True:\n",
        "    a,b = map(int, input().split())\n",
        "    if a == 0 and b == 0:\n",
        "      break\n",
        "    else: print(relation(a, b))"
      ],
      "metadata": {
        "colab": {
          "base_uri": "https://localhost:8080/"
        },
        "id": "EKnhiBe7_jVC",
        "outputId": "716b05aa-6240-4f16-8deb-7a2d53e62958"
      },
      "execution_count": null,
      "outputs": [
        {
          "name": "stdout",
          "output_type": "stream",
          "text": [
            "8 16\n",
            "factor\n",
            "32 4\n",
            "multiple\n",
            "17 5\n",
            "neither\n",
            "0 0\n"
          ]
        }
      ]
    },
    {
      "cell_type": "code",
      "source": [
        "# baekjoon 2565\n",
        "\n",
        "num = int(input())\n",
        "series = [[0, 0]]*num\n",
        "for i in range(num):\n",
        "  series[i] = list(map(int, input().split()))\n",
        "\n",
        "series.sort()\n",
        "\n",
        "ans = [1]*num\n",
        "for i in range(num):\n",
        "  for j in range(i):\n",
        "    if series[i][1] > series[j][1]:\n",
        "      ans[i] = max(ans[i], ans[j]+1)\n",
        "\n",
        "print(num-max(ans))"
      ],
      "metadata": {
        "colab": {
          "base_uri": "https://localhost:8080/"
        },
        "id": "faRxu4E1jC-X",
        "outputId": "d2890071-ecef-43a1-fa61-b36b54f2ba3b"
      },
      "execution_count": null,
      "outputs": [
        {
          "name": "stdout",
          "output_type": "stream",
          "text": [
            "8\n",
            "1 8\n",
            "3 9\n",
            "2 2\n",
            "4 1\n",
            "6 4\n",
            "10 10\n",
            "9 7\n",
            "7 6\n"
          ]
        }
      ]
    },
    {
      "cell_type": "code",
      "source": [
        "# baekjoon 9251 LCS\n",
        "\n",
        "char1 = input()\n",
        "char2 = input()\n",
        "\n",
        "len1 = len(char1) +1\n",
        "len2 = len(char2) +1\n",
        "\n",
        "ans = [[0]*len2 for _ in range(len1)]\n",
        "\n",
        "for i in range(1, len1):\n",
        "  for j in range(1, len2):\n",
        "    if char1[i-1] == char2[j-1]:\n",
        "      ans[i][j] = ans[i-1][j-1] + 1\n",
        "    else: ans[i][j] = max(ans[i-1][j], ans[i][j-1])\n",
        "\n",
        "print(ans[-1][-1])"
      ],
      "metadata": {
        "colab": {
          "base_uri": "https://localhost:8080/"
        },
        "id": "n4jbz2_2Q6O3",
        "outputId": "9fcbb883-ec6c-41b7-a580-abe3c767cf4a"
      },
      "execution_count": null,
      "outputs": [
        {
          "name": "stdout",
          "output_type": "stream",
          "text": [
            "ACAYKP\n",
            "AC\n"
          ]
        }
      ]
    },
    {
      "cell_type": "code",
      "source": [
        "# baekjoon 9251 LCS - another\n",
        "\n",
        "char1 = input()\n",
        "char2 = input()\n",
        "\n",
        "len1 = len(char1)\n",
        "len2 = len(char2)\n",
        "\n",
        "ans = [0]*len2\n",
        "for i in range(len1):\n",
        "  temp = 0\n",
        "  for j in range(len2):\n",
        "    if temp < ans[j]:\n",
        "      temp = ans[j]\n",
        "    elif char1[i] == char2[j]:\n",
        "      ans[j] = temp + 1\n",
        "\n",
        "print(max(ans))"
      ],
      "metadata": {
        "colab": {
          "base_uri": "https://localhost:8080/"
        },
        "id": "cdB8ffymzL_J",
        "outputId": "20be444a-9dea-4e6e-c94a-33c009bbefe0"
      },
      "execution_count": null,
      "outputs": [
        {
          "output_type": "stream",
          "name": "stdout",
          "text": [
            "[1, 2, 3, 2, 3, 4]\n"
          ]
        }
      ]
    }
  ]
}