{
  "nbformat": 4,
  "nbformat_minor": 0,
  "metadata": {
    "colab": {
      "provenance": [],
      "authorship_tag": "ABX9TyO7isphIEhUYqC8gizC+hhW",
      "include_colab_link": true
    },
    "kernelspec": {
      "name": "python3",
      "display_name": "Python 3"
    },
    "language_info": {
      "name": "python"
    }
  },
  "cells": [
    {
      "cell_type": "markdown",
      "metadata": {
        "id": "view-in-github",
        "colab_type": "text"
      },
      "source": [
        "<a href=\"https://colab.research.google.com/github/KimJin-Yong/BaekJoon/blob/main/baekjoon.ipynb\" target=\"_parent\"><img src=\"https://colab.research.google.com/assets/colab-badge.svg\" alt=\"Open In Colab\"/></a>"
      ]
    },
    {
      "cell_type": "code",
      "source": [
        "print('|\\_/|')\n",
        "print('|q p|   /}')\n",
        "print('( 0 )\"\"\"\\\\')\n",
        "print('|\"^\"`    |')\n",
        "print('||_/=\\\\\\\\__|')"
      ],
      "metadata": {
        "colab": {
          "base_uri": "https://localhost:8080/"
        },
        "id": "4f897MyAAJp0",
        "outputId": "ebad07ec-7373-4eff-eefa-3c94194e8f0c"
      },
      "execution_count": null,
      "outputs": [
        {
          "output_type": "stream",
          "name": "stdout",
          "text": [
            "|\\_/|\n",
            "|q p|   /}\n",
            "( 0 )\"\"\"\\\n",
            "|\"^\"`    |\n",
            "||_/=\\\\__|\n"
          ]
        }
      ]
    },
    {
      "cell_type": "code",
      "execution_count": null,
      "metadata": {
        "id": "Lh-Tg83zFfct",
        "colab": {
          "base_uri": "https://localhost:8080/"
        },
        "outputId": "f9923afb-2c50-4e97-e7c2-fbf7131a8a3c"
      },
      "outputs": [
        {
          "output_type": "stream",
          "name": "stdout",
          "text": [
            "3\n",
            "1 2 3\n",
            "5\n",
            "1 2 3 4 5\n",
            "1 1 1 0 0 "
          ]
        }
      ],
      "source": [
        "# baekjoon 10815 - 카드찾기\n",
        "\n",
        "from collections import Counter\n",
        "\n",
        "lengHold = int(input())\n",
        "hold = list(map(int, (input().split())))\n",
        "lengFind = int(input())\n",
        "find = list(map(int, (input().split())))\n",
        "\n",
        "count = Counter(hold)\n",
        "\n",
        "for i in range(lengFind):\n",
        "    if find[i] in count:\n",
        "        print(1, end=\" \")\n",
        "    else:\n",
        "        print(0, end=\" \")"
      ]
    },
    {
      "cell_type": "code",
      "source": [
        "# baekjoon 2588 - 3자리수 곱셈\n",
        "\n",
        "while True:\n",
        "  try:\n",
        "    a=int(input())\n",
        "    b=input()\n",
        "    for i in range(len(b)):\n",
        "      print(int(b[-i-1]) * a)\n",
        "    print(a*int(b))\n",
        "  except:\n",
        "    break"
      ],
      "metadata": {
        "id": "hXUY9VYGQ_US",
        "colab": {
          "base_uri": "https://localhost:8080/"
        },
        "outputId": "f5b63483-9dd8-4943-ed95-99fdf61b8b17"
      },
      "execution_count": null,
      "outputs": [
        {
          "output_type": "stream",
          "name": "stdout",
          "text": [
            "123\n",
            "234\n",
            "3\n",
            "492\n",
            "369\n",
            "246\n",
            "28782\n",
            "0\n",
            "\n",
            "0\n"
          ]
        }
      ]
    },
    {
      "cell_type": "code",
      "source": [
        "# baekjoon 1712 - 손익분기\n",
        "\n",
        "a,b,c = map(int, (input().split()))\n",
        "\n",
        "if b >= c:\n",
        "  print(-1)\n",
        "else:\n",
        "  i = (a//(c-b)) + 1\n",
        "  print(i)"
      ],
      "metadata": {
        "id": "NQjWaaaqJ-oA",
        "colab": {
          "base_uri": "https://localhost:8080/"
        },
        "outputId": "0bd1976b-dee4-4b14-8c95-36c83424e365"
      },
      "execution_count": null,
      "outputs": [
        {
          "output_type": "stream",
          "name": "stdout",
          "text": [
            "1 2 3\n",
            "2\n"
          ]
        }
      ]
    },
    {
      "cell_type": "code",
      "source": [
        "# baekjoon 2480 - lottery for dice\n",
        "\n",
        "a = list(map(int, input().split()))\n",
        "a.sort()\n",
        "if a[0] == a[1] == a[2]:\n",
        "  print(a[0]*1000 + 10000)\n",
        "elif a[0] == a[1] or a[1] == a[2]:\n",
        "  print(1000 + a[1]*100)\n",
        "else:\n",
        "  print(a[2]*100)"
      ],
      "metadata": {
        "id": "R9vB4u-tP84i",
        "colab": {
          "base_uri": "https://localhost:8080/"
        },
        "outputId": "828edc66-ea35-4a91-cd8f-d17f5759f9ae"
      },
      "execution_count": null,
      "outputs": [
        {
          "output_type": "stream",
          "name": "stdout",
          "text": [
            "1 2 3 4 5\n",
            "300\n"
          ]
        }
      ]
    },
    {
      "cell_type": "code",
      "source": [
        "# baekjoon 2292\n",
        "\n",
        "num = int(input())\n",
        "fun = 1\n",
        "i = 1\n",
        "while fun < num:\n",
        "  fun = fun + 6*i\n",
        "  i += 1\n",
        "print(i)"
      ],
      "metadata": {
        "id": "VA3xyhppe73Q",
        "colab": {
          "base_uri": "https://localhost:8080/"
        },
        "outputId": "67354e90-3d57-48a0-df95-d180f72624a9"
      },
      "execution_count": null,
      "outputs": [
        {
          "output_type": "stream",
          "name": "stdout",
          "text": [
            "13\n",
            "3\n"
          ]
        }
      ]
    },
    {
      "cell_type": "code",
      "source": [
        "# baekjoon 1193\n",
        "\n",
        "X = int(input())\n",
        "n=1\n",
        "while (2*X) > (n*(n+1)):\n",
        "  n+=1\n",
        "print(n)\n",
        "sum = n+1\n",
        "if n%2 ==1:\n",
        "  a = (n*(n+1)//2-X) + 1\n",
        "  b = sum - a\n",
        "else:\n",
        "  b = (n*(n+1)//2-X) + 1\n",
        "  a = sum - b\n",
        "\n",
        "result = str(a) + \"/\" + str(b)\n",
        "print(result)"
      ],
      "metadata": {
        "id": "vOcNvln7wOKR",
        "colab": {
          "base_uri": "https://localhost:8080/"
        },
        "outputId": "9758e5bc-46e9-455d-9a20-63d867d4029e"
      },
      "execution_count": null,
      "outputs": [
        {
          "output_type": "stream",
          "name": "stdout",
          "text": [
            "5\n",
            "3\n",
            "2/2\n"
          ]
        }
      ]
    },
    {
      "cell_type": "code",
      "source": [
        "# baekjoon 2869\n",
        "\n",
        "import math\n",
        "\n",
        "a,b,v=map(int, input().split())\n",
        "day = math.ceil((v-a)/(a-b)) + 1\n",
        "print(day)"
      ],
      "metadata": {
        "id": "CJcCzSsQ609c",
        "colab": {
          "base_uri": "https://localhost:8080/"
        },
        "outputId": "0b07ae4b-74c7-4aaf-c1e9-79694f672663"
      },
      "execution_count": null,
      "outputs": [
        {
          "output_type": "stream",
          "name": "stdout",
          "text": [
            "1 2 3\n",
            "-1\n"
          ]
        }
      ]
    },
    {
      "cell_type": "code",
      "source": [
        "# beakjoon 10250\n",
        "\n",
        "import math\n",
        "\n",
        "T = int(input())\n",
        "for i in range(T):\n",
        "  h,w,n = map(int, input().split())\n",
        "  room = math.ceil(n/h)\n",
        "  if room < 10:\n",
        "    room = \"0\"+str(room)\n",
        "  print(((n-1)%h)+1, room, sep=\"\")"
      ],
      "metadata": {
        "id": "8O0W7nS-c3NP",
        "colab": {
          "base_uri": "https://localhost:8080/"
        },
        "outputId": "efb725d6-d9ec-41e9-cff5-3ebcc88c0f5a"
      },
      "execution_count": null,
      "outputs": [
        {
          "output_type": "stream",
          "name": "stdout",
          "text": [
            "3\n",
            "1 2 3\n",
            "103\n",
            "4 3 5\n",
            "102\n",
            "100 100 100\n",
            "10001\n"
          ]
        }
      ]
    },
    {
      "cell_type": "code",
      "source": [
        "'''\n",
        "[1][5][15][35][70]\n",
        "[1][4][10][20][35]\n",
        "[1][3][6][10][15]\n",
        "[1][2][3][4][5]\n",
        "'''\n",
        "\n",
        "# beakjoon 2775\n",
        "\n",
        "result = 0\n",
        "def recur(k,n):\n",
        "    global result\n",
        "    if n ==0:\n",
        "        return k\n",
        "    if k ==1:\n",
        "        return 1\n",
        "    return recur(k-1,n) + recur(k,n-1)\n",
        "\n",
        "T = int(input())\n",
        "for i in range(T):\n",
        "    n=int(input())\n",
        "    k=int(input())\n",
        "    print(recur(k,n))"
      ],
      "metadata": {
        "id": "q1TnOzoogyL_",
        "colab": {
          "base_uri": "https://localhost:8080/"
        },
        "outputId": "b7630a3f-002e-4960-b1d2-078342488568"
      },
      "execution_count": null,
      "outputs": [
        {
          "output_type": "stream",
          "name": "stdout",
          "text": [
            "4\n",
            "3\n",
            "2\n",
            "5\n",
            "2\n",
            "4\n",
            "20\n",
            "6\n",
            "5\n",
            "330\n",
            "4\n",
            "5\n",
            "126\n"
          ]
        }
      ]
    },
    {
      "cell_type": "code",
      "source": [
        "# baekjoon 2775 shrtcode\n",
        "\n",
        "T = int(input())\n",
        "\n",
        "for _ in range(T):\n",
        "  k = int(input())\n",
        "  n = int(input())\n",
        "  people = [ i for i in range(1, n+1)]\n",
        "  for __ in range(k):\n",
        "    for j in range(1,n):\n",
        "      people[j] += people[j-1]\n",
        "\n",
        "    print(people[-1])"
      ],
      "metadata": {
        "id": "jeN1NlNlwFoG",
        "colab": {
          "base_uri": "https://localhost:8080/"
        },
        "outputId": "1f4b0813-34b0-463c-e070-d5de91d9f2a6"
      },
      "execution_count": null,
      "outputs": [
        {
          "output_type": "stream",
          "name": "stdout",
          "text": [
            "3\n",
            "1\n",
            "2\n",
            "3\n",
            "5\n",
            "4\n",
            "84\n",
            "10\n",
            "10\n",
            "167960\n"
          ]
        }
      ]
    },
    {
      "cell_type": "code",
      "source": [
        "# baekjoon 2839\n",
        "\n",
        "N = int(input())\n",
        "result = 0\n",
        "for i in range(5):\n",
        "  if (N-3*i)%5 == 0:\n",
        "    if N-3*i < 0:\n",
        "      continue\n",
        "    result = (N-3*i)//5 + i\n",
        "    print(result)\n",
        "  else:\n",
        "    continue\n",
        "if result == 0:\n",
        "  print(-1)"
      ],
      "metadata": {
        "id": "7jbW4lRh5cNq",
        "colab": {
          "base_uri": "https://localhost:8080/"
        },
        "outputId": "983a6179-083d-4035-b3a9-8a4868e0689e"
      },
      "execution_count": null,
      "outputs": [
        {
          "output_type": "stream",
          "name": "stdout",
          "text": [
            "10\n",
            "2\n"
          ]
        }
      ]
    },
    {
      "cell_type": "code",
      "source": [
        "# baekjoon 10757\n",
        "\n",
        "while True:\n",
        "  try:\n",
        "    a = int(input())\n",
        "    b = int(input())\n",
        "    print(a+b)\n",
        "  except:\n",
        "    break"
      ],
      "metadata": {
        "id": "NmpTbARNCgCb",
        "colab": {
          "base_uri": "https://localhost:8080/"
        },
        "outputId": "c0b5fc9e-ae19-4a6b-9c1e-c63b084e857b"
      },
      "execution_count": null,
      "outputs": [
        {
          "name": "stdout",
          "output_type": "stream",
          "text": [
            "3\n",
            "4\n",
            "7\n",
            "\n"
          ]
        }
      ]
    },
    {
      "cell_type": "code",
      "source": [
        "# baekjoon 1978\n",
        "\n",
        "import math\n",
        "\n",
        "N = int(input())\n",
        "List = list(map(int, (input().split())))\n",
        "\n",
        "result = 0\n",
        "for i in range(N):\n",
        "  error = 0\n",
        "  if List[i] == 1:\n",
        "    continue\n",
        "  #Count Prime Num\n",
        "  for _ in range(2, math.trunc(math.sqrt(List[i]))+1, 1):\n",
        "    if List[i]%_ == 0:\n",
        "      error +=1\n",
        "  if error == 0:\n",
        "    result += 1\n",
        "\n",
        "print(result)"
      ],
      "metadata": {
        "id": "e6GAUVHLK3yT",
        "colab": {
          "base_uri": "https://localhost:8080/"
        },
        "outputId": "c09341f7-0ccc-4d4a-bb3b-b58a3d738055"
      },
      "execution_count": null,
      "outputs": [
        {
          "output_type": "stream",
          "name": "stdout",
          "text": [
            "4\n",
            "1 3 5 7\n",
            "3\n"
          ]
        }
      ]
    },
    {
      "cell_type": "code",
      "source": [
        "# baekjoon 2581\n",
        "\n",
        "import math\n",
        "M = int(input())\n",
        "N = int(input())\n",
        "\n",
        "result = []\n",
        "for i in range(M,N+1):\n",
        "  error = 0\n",
        "  if i == 1:\n",
        "    continue\n",
        "  # append if i is prime_num\n",
        "  for _ in range(2, math.trunc(math.sqrt(i))+1, 1):\n",
        "    if i%_ == 0:\n",
        "      error += 1\n",
        "  if error == 0:\n",
        "    result.append(i)\n",
        "\n",
        "if result == []:\n",
        "  print(-1)\n",
        "else:\n",
        "  print(sum(result), '\\n', result[0])"
      ],
      "metadata": {
        "id": "9o9LU2y5ef2D",
        "colab": {
          "base_uri": "https://localhost:8080/"
        },
        "outputId": "5138fd86-f43a-4577-f5b5-5c5caf56b920"
      },
      "execution_count": null,
      "outputs": [
        {
          "output_type": "stream",
          "name": "stdout",
          "text": [
            "60\n",
            "100\n",
            "620 61\n"
          ]
        }
      ]
    },
    {
      "cell_type": "code",
      "source": [
        "# baekjoon 11653\n",
        "\n",
        "import math\n",
        "\n",
        "N = int(input())\n",
        "\n",
        "def func(num):\n",
        "  if num == 1:\n",
        "    return ''\n",
        "  for i in range(2, math.trunc(math.sqrt(num)+1)):\n",
        "    if num%i == 0:\n",
        "      print(i)\n",
        "      return func(num//i)\n",
        "  return num\n",
        "\n",
        "print(func(N))"
      ],
      "metadata": {
        "id": "6b6J4GEFjNw8",
        "colab": {
          "base_uri": "https://localhost:8080/"
        },
        "outputId": "44b18fa9-aa5e-4dfa-ca83-09ae18596f70"
      },
      "execution_count": null,
      "outputs": [
        {
          "output_type": "stream",
          "name": "stdout",
          "text": [
            "72\n",
            "2\n",
            "2\n",
            "2\n",
            "3\n",
            "3\n"
          ]
        }
      ]
    },
    {
      "cell_type": "code",
      "source": [
        "# 11653 short code\n",
        "\n",
        "N=int(input());a=2\n",
        "while N>1:\n",
        " if N%a:a+=1\n",
        " else:print(a);N/=a"
      ],
      "metadata": {
        "id": "E1frbrfSmWk3",
        "colab": {
          "base_uri": "https://localhost:8080/"
        },
        "outputId": "7449974e-dc07-4042-e5e0-97ad5cba3c97"
      },
      "execution_count": null,
      "outputs": [
        {
          "output_type": "stream",
          "name": "stdout",
          "text": [
            "10\n",
            "2\n",
            "5\n"
          ]
        }
      ]
    },
    {
      "cell_type": "code",
      "source": [
        "# baekjoon 1929\n",
        "\n",
        "import math\n",
        "\n",
        "M, N = map(int, input().split())\n",
        "\n",
        "for i in range(M,N+1):\n",
        "  error = 0\n",
        "  if i == 1:\n",
        "    continue\n",
        "  for _ in range(2, math.trunc(math.sqrt(i))+1, 1):\n",
        "    if i%_ == 0:\n",
        "      error += 1\n",
        "      break\n",
        "  if error == 0:\n",
        "    print(i)"
      ],
      "metadata": {
        "id": "NvaWbZTSmwJz",
        "colab": {
          "base_uri": "https://localhost:8080/"
        },
        "outputId": "b147f082-dc40-46a3-cf15-db4bc4c4f812"
      },
      "execution_count": null,
      "outputs": [
        {
          "output_type": "stream",
          "name": "stdout",
          "text": [
            "3 16\n",
            "3\n",
            "5\n",
            "7\n",
            "11\n",
            "13\n"
          ]
        }
      ]
    },
    {
      "cell_type": "code",
      "source": [
        "# baekjoon 4948 - 베르트랑 공준\n",
        "\n",
        "import math\n",
        "\n",
        "result = []\n",
        "for i in range(2, 2*(123456)+1):\n",
        "  error = 0\n",
        "  for j in range(2, math.trunc(math.sqrt(i))+1):\n",
        "    if i%j == 0:\n",
        "      error += 1\n",
        "      break\n",
        "  if error == 0:\n",
        "    result.append(i)\n",
        "\n",
        "while True:\n",
        "  n = int(input())\n",
        "  if n == 0:\n",
        "    break\n",
        "  for _ in result:\n",
        "    if n < _ :\n",
        "      s = result.index(_)\n",
        "      break\n",
        "  for __ in result[s:]:\n",
        "    if __ > 2*n:\n",
        "      a = result.index(__)-1\n",
        "      break\n",
        "    if 2*n > result[-1]:\n",
        "      a = result.index(result[-1])\n",
        "      break\n",
        "    print(a-s+1)"
      ],
      "metadata": {
        "id": "Av8_bFsHxe3F",
        "colab": {
          "base_uri": "https://localhost:8080/"
        },
        "outputId": "5368cd8f-70a4-4ae9-d89b-13c64b2d94b8"
      },
      "execution_count": null,
      "outputs": [
        {
          "name": "stdout",
          "output_type": "stream",
          "text": [
            "10\n",
            "4\n",
            "3\n",
            "1\n",
            "2\n",
            "1\n",
            "1\n",
            "1\n",
            "0\n"
          ]
        }
      ]
    },
    {
      "cell_type": "code",
      "source": [
        "# 강한 골드바흐 추측, baekjoon 9020\n",
        "\n",
        "import math\n",
        "l = []\n",
        "for i in range(2, 10000):\n",
        "  error = 0\n",
        "  for j in range(2, math.trunc(math.sqrt(i))+1):\n",
        "    if i%j == 0:\n",
        "      error = 1\n",
        "      break\n",
        "  if error == 0:\n",
        "    l.append(i)\n",
        "\n",
        "T = int(input())\n",
        "for _ in range(T):\n",
        "  n = int(input())\n",
        "\n",
        "  # check range of searching prime num\n",
        "  a = l.index(l[-1])\n",
        "  for __ in l:\n",
        "    if __ > n:\n",
        "      a = l.index(__) - 1\n",
        "      break\n",
        "\n",
        "  for x in range(n//2, 0, -1):\n",
        "    if (x in l[:a]) & (n-x in l[:a]):\n",
        "      print(x, n-x)\n",
        "      break"
      ],
      "metadata": {
        "id": "qU4vJ7C3Bpt8",
        "colab": {
          "base_uri": "https://localhost:8080/"
        },
        "outputId": "3d51580d-24f2-4486-aa92-aff44324c5e2"
      },
      "execution_count": null,
      "outputs": [
        {
          "output_type": "stream",
          "name": "stdout",
          "text": [
            "2\n",
            "100\n",
            "47 53\n",
            "500\n",
            "229 271\n"
          ]
        }
      ]
    },
    {
      "cell_type": "code",
      "source": [
        "# baekjoon 10872: factorial\n",
        "\n",
        "def fac(N):\n",
        "  if N == 0:\n",
        "    return 1\n",
        "  else:\n",
        "    return N*fac(N-1)\n",
        "\n",
        "a = int(input().strip(\"!\"))\n",
        "print(fac(a))"
      ],
      "metadata": {
        "id": "N81BuVAYSD5i",
        "colab": {
          "base_uri": "https://localhost:8080/"
        },
        "outputId": "ab32e9f7-2912-4a87-900a-43d397db7ae7"
      },
      "execution_count": null,
      "outputs": [
        {
          "output_type": "stream",
          "name": "stdout",
          "text": [
            "10!\n",
            "3628800\n"
          ]
        }
      ]
    },
    {
      "cell_type": "code",
      "source": [
        "# baekjoon 10870: Fibonacci\n",
        "\n",
        "def fib(n):\n",
        "  if n ==0:\n",
        "    return 0\n",
        "  if n ==1:\n",
        "    return 1\n",
        "  else:\n",
        "    return fib(n-1) + fib(n-2)\n",
        "\n",
        "a = int(input())\n",
        "print(fib(a))"
      ],
      "metadata": {
        "id": "KmiYfBaxTBgF",
        "colab": {
          "base_uri": "https://localhost:8080/"
        },
        "outputId": "c2735988-531a-4a73-b889-34aa2c250a7c"
      },
      "execution_count": null,
      "outputs": [
        {
          "output_type": "stream",
          "name": "stdout",
          "text": [
            "20\n",
            "6765\n"
          ]
        }
      ]
    },
    {
      "cell_type": "code",
      "source": [
        "# beakjoon 17478\n",
        "\n",
        "last = ''\n",
        "first = ''\n",
        "def rec(n, r):\n",
        "  global last, first\n",
        "  tab = '____'\n",
        "  a = \"어느 한 컴퓨터공학과 학생이 유명한 교수님을 찾아가 물었다.\\n\"\n",
        "  b = '\"재귀함수가 뭔가요?\"\\n'\n",
        "  c = '\"잘 들어보게. 옛날옛날 한 산 꼭대기에 이세상 모든 지식을 통달한 선인이 있었어.\\n' + tab*(n-1) + '마을 사람들은 모두 그 선인에게 수많은 질문을 했고, 모두 지혜롭게 대답해 주었지.\\n' + tab*(n-1) + '그의 답은 대부분 옳았다고 하네. 그런데 어느 날, 그 선인에게 한 선비가 찾아와서 물었어.\"\\n'\n",
        "  d = '\"재귀함수는 자기 자신을 호출하는 함수라네\"\\n'\n",
        "  e = '라고 답변하였지.\\n'\n",
        "  if n == 1:\n",
        "    return a + b+ c + first + r*tab + b + r*tab + d + r*tab + e + last + e\n",
        "  else:\n",
        "    first = (n-1)*tab + b + (n-1)*tab + c + first\n",
        "    last = last + (n-1)*tab + e\n",
        "    return rec(n-1, r)\n",
        "\n",
        "N = int(input())\n",
        "print(rec(N, N))"
      ],
      "metadata": {
        "id": "qNfFN5PkT6qn",
        "colab": {
          "base_uri": "https://localhost:8080/"
        },
        "outputId": "0a489022-5060-476f-c47e-9eb56a6a1201"
      },
      "execution_count": null,
      "outputs": [
        {
          "output_type": "stream",
          "name": "stdout",
          "text": [
            "4\n",
            "어느 한 컴퓨터공학과 학생이 유명한 교수님을 찾아가 물었다.\n",
            "\"재귀함수가 뭔가요?\"\n",
            "\"잘 들어보게. 옛날옛날 한 산 꼭대기에 이세상 모든 지식을 통달한 선인이 있었어.\n",
            "마을 사람들은 모두 그 선인에게 수많은 질문을 했고, 모두 지혜롭게 대답해 주었지.\n",
            "그의 답은 대부분 옳았다고 하네. 그런데 어느 날, 그 선인에게 한 선비가 찾아와서 물었어.\"\n",
            "____\"재귀함수가 뭔가요?\"\n",
            "____\"잘 들어보게. 옛날옛날 한 산 꼭대기에 이세상 모든 지식을 통달한 선인이 있었어.\n",
            "____마을 사람들은 모두 그 선인에게 수많은 질문을 했고, 모두 지혜롭게 대답해 주었지.\n",
            "____그의 답은 대부분 옳았다고 하네. 그런데 어느 날, 그 선인에게 한 선비가 찾아와서 물었어.\"\n",
            "________\"재귀함수가 뭔가요?\"\n",
            "________\"잘 들어보게. 옛날옛날 한 산 꼭대기에 이세상 모든 지식을 통달한 선인이 있었어.\n",
            "________마을 사람들은 모두 그 선인에게 수많은 질문을 했고, 모두 지혜롭게 대답해 주었지.\n",
            "________그의 답은 대부분 옳았다고 하네. 그런데 어느 날, 그 선인에게 한 선비가 찾아와서 물었어.\"\n",
            "____________\"재귀함수가 뭔가요?\"\n",
            "____________\"잘 들어보게. 옛날옛날 한 산 꼭대기에 이세상 모든 지식을 통달한 선인이 있었어.\n",
            "____________마을 사람들은 모두 그 선인에게 수많은 질문을 했고, 모두 지혜롭게 대답해 주었지.\n",
            "____________그의 답은 대부분 옳았다고 하네. 그런데 어느 날, 그 선인에게 한 선비가 찾아와서 물었어.\"\n",
            "________________\"재귀함수가 뭔가요?\"\n",
            "________________\"재귀함수는 자기 자신을 호출하는 함수라네\"\n",
            "________________라고 답변하였지.\n",
            "____________라고 답변하였지.\n",
            "________라고 답변하였지.\n",
            "____라고 답변하였지.\n",
            "라고 답변하였지.\n",
            "\n"
          ]
        }
      ]
    },
    {
      "cell_type": "code",
      "source": [
        "# 17478 short code\n",
        "\n",
        "p=print\n",
        "def r(i):\n",
        "\ts='____'*i;p(s+'\"재귀함수가 뭔가요?\"')\n",
        "\tif i==n:p(s+'\"재귀함수는 자기 자신을 호출하는 함수라네\"')\n",
        "\telse:p(f'''{s}\"잘 들어보게. 옛날옛날 한 산 꼭대기에 이세상 모든 지식을 통달한 선인이 있었어.\n",
        "{s}마을 사람들은 모두 그 선인에게 수많은 질문을 했고, 모두 지혜롭게 대답해 주었지.\n",
        "{s}그의 답은 대부분 옳았다고 하네. 그런데 어느 날, 그 선인에게 한 선비가 찾아와서 물었어.\"''');r(i+1)\n",
        "\tp(s+'라고 답변하였지.')\n",
        "n=int(input())\n",
        "p('어느 한 컴퓨터공학과 학생이 유명한 교수님을 찾아가 물었다.')\n",
        "r(0)"
      ],
      "metadata": {
        "id": "eGtpjd0soYdO",
        "colab": {
          "base_uri": "https://localhost:8080/"
        },
        "outputId": "34693093-6f49-46ac-ff3d-e93c1596b413"
      },
      "execution_count": null,
      "outputs": [
        {
          "output_type": "stream",
          "name": "stdout",
          "text": [
            "4\n",
            "어느 한 컴퓨터공학과 학생이 유명한 교수님을 찾아가 물었다.\n",
            "\"재귀함수가 뭔가요?\"\n",
            "\"잘 들어보게. 옛날옛날 한 산 꼭대기에 이세상 모든 지식을 통달한 선인이 있었어.\n",
            "마을 사람들은 모두 그 선인에게 수많은 질문을 했고, 모두 지혜롭게 대답해 주었지.\n",
            "그의 답은 대부분 옳았다고 하네. 그런데 어느 날, 그 선인에게 한 선비가 찾아와서 물었어.\"\n",
            "____\"재귀함수가 뭔가요?\"\n",
            "____\"잘 들어보게. 옛날옛날 한 산 꼭대기에 이세상 모든 지식을 통달한 선인이 있었어.\n",
            "____마을 사람들은 모두 그 선인에게 수많은 질문을 했고, 모두 지혜롭게 대답해 주었지.\n",
            "____그의 답은 대부분 옳았다고 하네. 그런데 어느 날, 그 선인에게 한 선비가 찾아와서 물었어.\"\n",
            "________\"재귀함수가 뭔가요?\"\n",
            "________\"잘 들어보게. 옛날옛날 한 산 꼭대기에 이세상 모든 지식을 통달한 선인이 있었어.\n",
            "________마을 사람들은 모두 그 선인에게 수많은 질문을 했고, 모두 지혜롭게 대답해 주었지.\n",
            "________그의 답은 대부분 옳았다고 하네. 그런데 어느 날, 그 선인에게 한 선비가 찾아와서 물었어.\"\n",
            "____________\"재귀함수가 뭔가요?\"\n",
            "____________\"잘 들어보게. 옛날옛날 한 산 꼭대기에 이세상 모든 지식을 통달한 선인이 있었어.\n",
            "____________마을 사람들은 모두 그 선인에게 수많은 질문을 했고, 모두 지혜롭게 대답해 주었지.\n",
            "____________그의 답은 대부분 옳았다고 하네. 그런데 어느 날, 그 선인에게 한 선비가 찾아와서 물었어.\"\n",
            "________________\"재귀함수가 뭔가요?\"\n",
            "________________\"재귀함수는 자기 자신을 호출하는 함수라네\"\n",
            "________________라고 답변하였지.\n",
            "____________라고 답변하였지.\n",
            "________라고 답변하였지.\n",
            "____라고 답변하였지.\n",
            "라고 답변하였지.\n"
          ]
        }
      ]
    },
    {
      "cell_type": "code",
      "source": [
        "# baekjoon 15552\n",
        "\n",
        "a = int(input())\n",
        "for i in range(a):\n",
        "  A, B = map(int, input().split())\n",
        "  print(A+B)"
      ],
      "metadata": {
        "colab": {
          "base_uri": "https://localhost:8080/"
        },
        "id": "Mj_02zpLkig-",
        "outputId": "32f6a339-33b5-4e07-e8cc-ec8373ee5ba6"
      },
      "execution_count": null,
      "outputs": [
        {
          "output_type": "stream",
          "name": "stdout",
          "text": [
            "5\n",
            "1 1\n",
            "2\n",
            "12 34\n",
            "46\n",
            "5 500\n",
            "505\n",
            "40 60\n",
            "100\n",
            "1000 1000\n",
            "2000\n"
          ]
        }
      ]
    },
    {
      "cell_type": "code",
      "source": [
        "# baekjoon 2741, 2742\n",
        "\n",
        "N = int(input())\n",
        "#for i in range(N): print(i+1)\n",
        "for i in range(N, 0, -1):\n",
        "  print(i)"
      ],
      "metadata": {
        "colab": {
          "base_uri": "https://localhost:8080/"
        },
        "id": "UYORaOEuvYKg",
        "outputId": "52dd4658-b3b2-460c-864f-5edea5354cac"
      },
      "execution_count": null,
      "outputs": [
        {
          "output_type": "stream",
          "name": "stdout",
          "text": [
            "5\n",
            "5\n",
            "4\n",
            "3\n",
            "2\n",
            "1\n"
          ]
        }
      ]
    },
    {
      "cell_type": "code",
      "source": [
        "# baekjoon 11021, 11022\n",
        "\n",
        "T = int(input())\n",
        "\n",
        "for i in range(T):\n",
        "  a,b = map(int, input().split())\n",
        "  print(f'Case #{i+1}: {a} + {b} =', a+b)"
      ],
      "metadata": {
        "colab": {
          "base_uri": "https://localhost:8080/"
        },
        "id": "jf12Hn96wOy-",
        "outputId": "123874cb-4736-4c50-f9f7-e4d14ceb957e"
      },
      "execution_count": null,
      "outputs": [
        {
          "output_type": "stream",
          "name": "stdout",
          "text": [
            "5\n",
            "1 1\n",
            "Case #1: 1 + 1 = 2\n",
            "2 3\n",
            "Case #2: 2 + 3 = 5\n",
            "3 4\n",
            "Case #3: 3 + 4 = 7\n",
            "9 8\n",
            "Case #4: 9 + 8 = 17\n",
            "5 2\n",
            "Case #5: 5 + 2 = 7\n"
          ]
        }
      ]
    },
    {
      "cell_type": "code",
      "source": [
        "# baekjoon 2438, 2439\n",
        "\n",
        "N = int(input())\n",
        "for i in range(N):\n",
        "  print((N-(i+1))*' ', (i+1)*'*', sep = '')"
      ],
      "metadata": {
        "colab": {
          "base_uri": "https://localhost:8080/"
        },
        "id": "6dbqOeBYxgSw",
        "outputId": "9e447079-26e6-4155-cb65-e4bb4945ab1d"
      },
      "execution_count": null,
      "outputs": [
        {
          "output_type": "stream",
          "name": "stdout",
          "text": [
            "5\n",
            "    *\n",
            "   **\n",
            "  ***\n",
            " ****\n",
            "*****\n"
          ]
        }
      ]
    },
    {
      "cell_type": "code",
      "source": [
        "# baekjoon 10871 - str list print\n",
        "\n",
        "N,X=map(int, input().split())\n",
        "l=list(map(int, (input().split())))\n",
        "result = ''\n",
        "for i in range(len(l)):\n",
        "  if l[i] < X:\n",
        "    result += str(l[i]) + \" \"\n",
        "print(result)"
      ],
      "metadata": {
        "colab": {
          "base_uri": "https://localhost:8080/"
        },
        "id": "yFxp9jkjyT5O",
        "outputId": "678b0ab8-1c85-48f9-fa72-5bb6de9a370d"
      },
      "execution_count": null,
      "outputs": [
        {
          "output_type": "stream",
          "name": "stdout",
          "text": [
            "10 5\n",
            "1 10 4 9 2 3 8 5 7 6\n",
            "1 4 2 3 \n"
          ]
        }
      ]
    },
    {
      "cell_type": "code",
      "source": [
        "# baekjoon 10951, 10952\n",
        "\n",
        "while True:\n",
        "  try:\n",
        "    a,b = map(int, input().split())\n",
        "    print(a+b)\n",
        "  except:\n",
        "    break\n",
        "\n",
        "while True:\n",
        "  a,b = map(int, input().split())\n",
        "  if (a and b) == 0:\n",
        "    break\n",
        "  print(a+b)"
      ],
      "metadata": {
        "colab": {
          "base_uri": "https://localhost:8080/"
        },
        "id": "C5lPUJVk0TBg",
        "outputId": "eff40cde-2b67-4839-8781-fd11fe2c6f44"
      },
      "execution_count": null,
      "outputs": [
        {
          "name": "stdout",
          "output_type": "stream",
          "text": [
            "1 1\n",
            "2\n",
            "2 3\n",
            "5\n",
            "\n"
          ]
        }
      ]
    },
    {
      "cell_type": "code",
      "source": [
        "# baekjoon 1110\n",
        "\n",
        "n = input()\n",
        "if len(n) == 1: n += '0'\n",
        "stop = n\n",
        "\n",
        "result = 0\n",
        "while True:\n",
        "  a = str(int(n[0])+int(n[1]))\n",
        "  n = n[1] + a[-1]\n",
        "  result += 1\n",
        "  if n == stop: break\n",
        "print(result)"
      ],
      "metadata": {
        "colab": {
          "base_uri": "https://localhost:8080/"
        },
        "id": "4SJ_D23k2Kou",
        "outputId": "cfee2c60-c19a-44f6-ece0-95ca35c83b21"
      },
      "execution_count": null,
      "outputs": [
        {
          "output_type": "stream",
          "name": "stdout",
          "text": [
            "71\n",
            "12\n"
          ]
        }
      ]
    },
    {
      "cell_type": "code",
      "source": [
        "# baekjoon 10818\n",
        "\n",
        "n = int(input())\n",
        "l = list(map(int, input().split()))\n",
        "print(min(l), max(l))"
      ],
      "metadata": {
        "colab": {
          "base_uri": "https://localhost:8080/"
        },
        "id": "9m3snGs7DZDx",
        "outputId": "9c866ab6-4309-443f-fbf4-1b2026127308"
      },
      "execution_count": null,
      "outputs": [
        {
          "output_type": "stream",
          "name": "stdout",
          "text": [
            "5\n",
            "20 10 35 30 7\n",
            "7 35\n"
          ]
        }
      ]
    },
    {
      "cell_type": "code",
      "source": [
        "# baekjoon 2562\n",
        "\n",
        "l = []\n",
        "for i in range(9):\n",
        "  l.append(int(input()))\n",
        "print(max(l), l.index(max(l))+1, sep='\\n')"
      ],
      "metadata": {
        "id": "mxHRS3iTE2Gv",
        "colab": {
          "base_uri": "https://localhost:8080/"
        },
        "outputId": "3923e871-5909-449d-8a20-b7d7491a15e2"
      },
      "execution_count": null,
      "outputs": [
        {
          "output_type": "stream",
          "name": "stdout",
          "text": [
            "3\n",
            "29\n",
            "38\n",
            "12\n",
            "57\n",
            "74\n",
            "40\n",
            "85\n",
            "61\n",
            "85\n",
            "8\n"
          ]
        }
      ]
    },
    {
      "cell_type": "code",
      "source": [
        "# baekjoon 2577\n",
        "\n",
        "a = int(input())\n",
        "b = int(input())\n",
        "c = int(input())\n",
        "\n",
        "x = str(a*b*c)\n",
        "for i in range(10):\n",
        "  print(x.count(str(i)))"
      ],
      "metadata": {
        "colab": {
          "base_uri": "https://localhost:8080/"
        },
        "id": "WqQEvWuRLowI",
        "outputId": "7d920721-c490-477f-ec5e-8b781acc9fa0"
      },
      "execution_count": null,
      "outputs": [
        {
          "output_type": "stream",
          "name": "stdout",
          "text": [
            "150\n",
            "266\n",
            "427\n",
            "3\n",
            "1\n",
            "0\n",
            "2\n",
            "0\n",
            "0\n",
            "0\n",
            "2\n",
            "0\n",
            "0\n"
          ]
        }
      ]
    },
    {
      "cell_type": "code",
      "source": [
        "# baekjoon 3052\n",
        "a = []\n",
        "for i in range(10):\n",
        "  n = int(input())\n",
        "  a.append(n%42)\n",
        "print(len(set(a)))"
      ],
      "metadata": {
        "colab": {
          "base_uri": "https://localhost:8080/"
        },
        "id": "HYSywjUD3Osr",
        "outputId": "54bb9d69-8a09-4a3d-bef4-bafc2a331475"
      },
      "execution_count": null,
      "outputs": [
        {
          "output_type": "stream",
          "name": "stdout",
          "text": [
            "39\n",
            "40\n",
            "41\n",
            "42\n",
            "43\n",
            "44\n",
            "82\n",
            "83\n",
            "84\n",
            "85\n",
            "6\n"
          ]
        }
      ]
    },
    {
      "cell_type": "code",
      "source": [
        "# baekjoon 1546\n",
        "\n",
        "n=int(input())\n",
        "l = list(map(float, input().split()))\n",
        "print(sum(l)/len(l)/max(l)*100)"
      ],
      "metadata": {
        "colab": {
          "base_uri": "https://localhost:8080/"
        },
        "id": "gOqbQ-on5lGF",
        "outputId": "67192f2b-11b7-4e97-f20f-11c1e11ef194"
      },
      "execution_count": null,
      "outputs": [
        {
          "output_type": "stream",
          "name": "stdout",
          "text": [
            "5\n",
            "1 2 4 8 16\n",
            "38.75\n"
          ]
        }
      ]
    },
    {
      "cell_type": "code",
      "source": [
        "# baekjoon 8958\n",
        "\n",
        "n = int(input())\n",
        "for i in range(n):\n",
        "  l=0\n",
        "  a=list(input().split('X'))\n",
        "  for j in range(len(a)):\n",
        "    l = l + (len(a[j])*(len(a[j])+1))//2\n",
        "  print(l)"
      ],
      "metadata": {
        "colab": {
          "base_uri": "https://localhost:8080/"
        },
        "id": "y9cw1xXa7Dsa",
        "outputId": "25240fa7-c582-4fdb-99d1-81d1deb121dc"
      },
      "execution_count": null,
      "outputs": [
        {
          "output_type": "stream",
          "name": "stdout",
          "text": [
            "1\n",
            "OXOOXOOO\n",
            "10\n"
          ]
        }
      ]
    },
    {
      "cell_type": "code",
      "source": [
        "# baekjoon 4344\n",
        "\n",
        "def avr(n):\n",
        "  return round(sum(n)/len(n), 3)\n",
        "\n",
        "c = int(input())\n",
        "for i in range(c):\n",
        "  upper = 0\n",
        "  a = list(map(int, input().split()))\n",
        "  b = a.pop(0)\n",
        "  for j in range(b):\n",
        "    if a[j] > avr(a):\n",
        "      upper += 1\n",
        "  print('{:.3f}%'.format(round(upper/len(a)*100, 3)))"
      ],
      "metadata": {
        "colab": {
          "base_uri": "https://localhost:8080/"
        },
        "id": "uOO6kVWm_8da",
        "outputId": "dc5eb2a9-fef5-4b56-e34b-ed2bacac4cb5"
      },
      "execution_count": null,
      "outputs": [
        {
          "output_type": "stream",
          "name": "stdout",
          "text": [
            "2\n",
            "5 50 50 70 80 100\n",
            "40.000%\n",
            "7 100 95 90 80 70 60 50\n",
            "57.143%\n"
          ]
        }
      ]
    },
    {
      "cell_type": "code",
      "source": [
        "# baekjoon 4673\n",
        "\n",
        "def d(x):\n",
        "  return x + x//1000 + (x%1000)//100 + (x%100)//10 + x%10\n",
        "\n",
        "a = []\n",
        "for i in range(1, 10000):\n",
        "  a.append(d(i))\n",
        "\n",
        "a.sort()\n",
        "for j in range(1, len(a)):\n",
        "  if j >= 10000:\n",
        "    break\n",
        "  if j not in a:\n",
        "    print(j)"
      ],
      "metadata": {
        "id": "r-YlGdDFdb_P"
      },
      "execution_count": null,
      "outputs": []
    },
    {
      "cell_type": "code",
      "source": [
        "# baekjoon 1065\n",
        "\n",
        "n = int(input())\n",
        "nList = []\n",
        "for i in range(1,n+1):\n",
        "  if i < 100:\n",
        "    nList.append(i)\n",
        "  elif i//100 + i%10 == 2*((i%100)//10):\n",
        "    nList.append(i)\n",
        "print(len(nList))"
      ],
      "metadata": {
        "id": "ZXNb2rizwFVE",
        "colab": {
          "base_uri": "https://localhost:8080/"
        },
        "outputId": "6c1382d6-e29a-45e0-c375-e39e57a51cd4"
      },
      "execution_count": null,
      "outputs": [
        {
          "output_type": "stream",
          "name": "stdout",
          "text": [
            "500\n",
            "119\n"
          ]
        }
      ]
    },
    {
      "cell_type": "code",
      "source": [
        "# baekjoon 11654 - 아스키코드 반환\n",
        "print(ord(input()))\n",
        "# chr() - code to character"
      ],
      "metadata": {
        "colab": {
          "base_uri": "https://localhost:8080/"
        },
        "id": "bUUoE0m-DINg",
        "outputId": "73cd47ea-4258-4585-89d0-88e7b7294535"
      },
      "execution_count": null,
      "outputs": [
        {
          "output_type": "stream",
          "name": "stdout",
          "text": [
            "z\n",
            "122\n"
          ]
        }
      ]
    },
    {
      "cell_type": "code",
      "source": [
        "# baekjoon 11720\n",
        "\n",
        "result = 0\n",
        "n = int(input())\n",
        "string = input()\n",
        "for i in range(n):\n",
        "  result += int(string[i])\n",
        "print(result)"
      ],
      "metadata": {
        "colab": {
          "base_uri": "https://localhost:8080/"
        },
        "id": "-sfQM99WEIEO",
        "outputId": "6a033f73-4dbb-4ef8-a852-0c96a6969a01"
      },
      "execution_count": null,
      "outputs": [
        {
          "output_type": "stream",
          "name": "stdout",
          "text": [
            "11\n",
            "10987654321\n",
            "46\n"
          ]
        }
      ]
    },
    {
      "cell_type": "code",
      "source": [
        "# baekjoon 10809\n",
        "# small character in ascii -> a=97, z=122\n",
        "\n",
        "s = input()\n",
        "result = []\n",
        "for i in range(97, 123):\n",
        "  if chr(i) in s:\n",
        "    result.append(s.index(chr(i)))\n",
        "  else:\n",
        "    result.append(-1)\n",
        "print(\" \".join(map(str, result)))"
      ],
      "metadata": {
        "colab": {
          "base_uri": "https://localhost:8080/"
        },
        "id": "cLtlHxtTFhId",
        "outputId": "9c1c901c-ae85-45f7-b6d7-61f4b07d4fde"
      },
      "execution_count": null,
      "outputs": [
        {
          "output_type": "stream",
          "name": "stdout",
          "text": [
            "baekjoon\n",
            "1 0 -1 -1 2 -1 -1 -1 -1 4 3 -1 -1 7 5 -1 -1 -1 -1 -1 -1 -1 -1 -1 -1 -1\n"
          ]
        }
      ]
    },
    {
      "cell_type": "code",
      "source": [
        "# baekjoon 2675\n",
        "\n",
        "T = int(input())\n",
        "for i in range(T):\n",
        "  n, r = map(str, input().split())\n",
        "  n = int(n)\n",
        "  result = ''\n",
        "  for i in range(len(r)):\n",
        "    result += n*r[i]\n",
        "  print(result)"
      ],
      "metadata": {
        "colab": {
          "base_uri": "https://localhost:8080/"
        },
        "id": "CTa05X4jKYDh",
        "outputId": "737d6392-48f3-4bd3-f54b-f61b1d989a74"
      },
      "execution_count": null,
      "outputs": [
        {
          "output_type": "stream",
          "name": "stdout",
          "text": [
            "2\n",
            "3 ABC\n",
            "AAABBBCCC\n",
            "5 /HTP\n",
            "/////HHHHHTTTTTPPPPP\n"
          ]
        }
      ]
    },
    {
      "cell_type": "code",
      "source": [
        "# baekjoon 2447\n",
        "\n",
        "N = int(input())\n",
        "def star(n, s):\n",
        "  if n == 1:\n",
        "    return '\\n'.join(s)\n",
        "  result = []\n",
        "  # make 3*3 bigger pattern by using n-1th func\n",
        "  for i in range(3*len(s)):\n",
        "    # make empty space\n",
        "    if 3*len(s)//3 <= i < 2*3*len(s)//3:\n",
        "      result.append(s[i%len(s)] + ' '*len(s) + s[i%len(s)])\n",
        "    else: result.append(s[i%len(s)] * 3)\n",
        "  return star(n//3, result)\n",
        "print(star(N//3, ['***', '* *', '***']))"
      ],
      "metadata": {
        "id": "hp-Pws64NoIy",
        "colab": {
          "base_uri": "https://localhost:8080/"
        },
        "outputId": "ec11a99d-608b-4ad7-fcb3-a87239cf0739"
      },
      "execution_count": null,
      "outputs": [
        {
          "output_type": "stream",
          "name": "stdout",
          "text": [
            "27\n",
            "***************************\n",
            "* ** ** ** ** ** ** ** ** *\n",
            "***************************\n",
            "***   ******   ******   ***\n",
            "* *   * ** *   * ** *   * *\n",
            "***   ******   ******   ***\n",
            "***************************\n",
            "* ** ** ** ** ** ** ** ** *\n",
            "***************************\n",
            "*********         *********\n",
            "* ** ** *         * ** ** *\n",
            "*********         *********\n",
            "***   ***         ***   ***\n",
            "* *   * *         * *   * *\n",
            "***   ***         ***   ***\n",
            "*********         *********\n",
            "* ** ** *         * ** ** *\n",
            "*********         *********\n",
            "***************************\n",
            "* ** ** ** ** ** ** ** ** *\n",
            "***************************\n",
            "***   ******   ******   ***\n",
            "* *   * ** *   * ** *   * *\n",
            "***   ******   ******   ***\n",
            "***************************\n",
            "* ** ** ** ** ** ** ** ** *\n",
            "***************************\n"
          ]
        }
      ]
    },
    {
      "cell_type": "code",
      "source": [
        "# baekjoon 11729 - Hanoi\n",
        "\n",
        "n = int(input())\n",
        "print(pow(2,n)-1)\n",
        "\n",
        "result = []\n",
        "def hanoi(n, a, b, c):\n",
        "  if n == 1:\n",
        "    result.append(f'{a} {c}')\n",
        "  else:\n",
        "    return hanoi(n-1, a, c, b), result.append(f'{a} {c}'), hanoi(n-1, b, a, c)\n",
        "hanoi(n, 1, 2, 3)\n",
        "print('\\n'.join(result))"
      ],
      "metadata": {
        "id": "AnpC9UAxvw21",
        "colab": {
          "base_uri": "https://localhost:8080/"
        },
        "outputId": "8d5e9903-87e8-4117-c4c9-328ec9c4c6d4"
      },
      "execution_count": null,
      "outputs": [
        {
          "output_type": "stream",
          "name": "stdout",
          "text": [
            "3\n",
            "7\n",
            "1 3\n",
            "1 2\n",
            "3 2\n",
            "1 3\n",
            "2 1\n",
            "2 3\n",
            "1 3\n"
          ]
        }
      ]
    },
    {
      "cell_type": "code",
      "source": [
        "# baekjoon 1157\n",
        "\n",
        "s = input().upper()\n",
        "alpha = {}\n",
        "max = count = 0\n",
        "for i in range(ord('A'), ord('Z')+1):\n",
        "  alpha.update({chr(i):s.count(chr(i))})\n",
        "for x, y in alpha.items():\n",
        "  if y > max:\n",
        "    count = 0\n",
        "    result = x\n",
        "    max = y\n",
        "  elif y == max:\n",
        "    count += 1\n",
        "\n",
        "if count == 0:\n",
        "  print(result)\n",
        "else:\n",
        "  print('?')"
      ],
      "metadata": {
        "id": "Da_lHWRWvW7A",
        "colab": {
          "base_uri": "https://localhost:8080/"
        },
        "outputId": "030818c2-d381-4dd0-8f97-8a14c9de8fe8"
      },
      "execution_count": null,
      "outputs": [
        {
          "output_type": "stream",
          "name": "stdout",
          "text": [
            "Mississipi\n",
            "?\n"
          ]
        }
      ]
    },
    {
      "cell_type": "code",
      "source": [
        "# baekjoon 1152\n",
        "\n",
        "s = input().strip().split()\n",
        "print(len(s))"
      ],
      "metadata": {
        "colab": {
          "base_uri": "https://localhost:8080/"
        },
        "id": "4yM5PDoj2dCw",
        "outputId": "a9b83f51-0146-4105-c6e6-9b6a75d2773d"
      },
      "execution_count": null,
      "outputs": [
        {
          "output_type": "stream",
          "name": "stdout",
          "text": [
            " naive string\n",
            "2\n"
          ]
        }
      ]
    },
    {
      "cell_type": "code",
      "source": [
        "# baekjoon 2908 - 역순정렬\n",
        "\n",
        "a,b = map(str, input().split())\n",
        "Ra = a[::-1]\n",
        "Rb = b[::-1]\n",
        "print(max(int(Ra), int(Rb)))"
      ],
      "metadata": {
        "colab": {
          "base_uri": "https://localhost:8080/"
        },
        "id": "MyUKH2TTt9Lk",
        "outputId": "7dfda545-7676-4be5-d422-199e1918b1ef"
      },
      "execution_count": null,
      "outputs": [
        {
          "output_type": "stream",
          "name": "stdout",
          "text": [
            "734 893\n",
            "893 734\n",
            "437\n"
          ]
        }
      ]
    },
    {
      "cell_type": "code",
      "source": [
        "# baekjoon 5622 - 다이얼\n",
        "\n",
        "s = input()\n",
        "t = 0\n",
        "for i in s:\n",
        "  if ord(i) < ord('S'):\n",
        "    t += (ord(i) - ord('A'))//3 + 3\n",
        "  elif ord(i) < ord('Z'):\n",
        "    t += (ord(i) - ord('A') - 1)//3 + 3\n",
        "  else:\n",
        "    t += (ord(i) - ord('A') - 2)//3 + 3\n",
        "print(t)"
      ],
      "metadata": {
        "colab": {
          "base_uri": "https://localhost:8080/"
        },
        "id": "JnBcIN3Ng1H5",
        "outputId": "fd1e6cfc-b4a4-4cf0-c7ec-a183d9828532"
      },
      "execution_count": null,
      "outputs": [
        {
          "output_type": "stream",
          "name": "stdout",
          "text": [
            "Z\n",
            "11\n"
          ]
        }
      ]
    },
    {
      "cell_type": "code",
      "source": [
        "# baekjoon 2941\n",
        "\n",
        "s = input()\n",
        "List = ['c=', 'c-', 'dz=', 'd-', 'lj', 'nj', 's=', 'z=']\n",
        "for i in List:\n",
        "  s = s.replace(i, 'X')\n",
        "print(len(s))"
      ],
      "metadata": {
        "colab": {
          "base_uri": "https://localhost:8080/"
        },
        "id": "h9nds2uZNj5A",
        "outputId": "0467666c-3cd7-40e1-b9ff-1cbb217fbab8"
      },
      "execution_count": null,
      "outputs": [
        {
          "output_type": "stream",
          "name": "stdout",
          "text": [
            "ljes=njak\n",
            "XeXXak\n"
          ]
        }
      ]
    },
    {
      "cell_type": "code",
      "source": [
        "# baekjoon 1316\n",
        "\n",
        "n = int(input())\n",
        "sum = 0\n",
        "for i in range(n):\n",
        "  s = input()\n",
        "  char = [s[0]]\n",
        "  for j in range(1, len(s)):\n",
        "    if s[j] != s[j-1]:\n",
        "      char.append(s[j])\n",
        "  for x in char:\n",
        "    if char.count(x) != 1:\n",
        "      sum -= 1\n",
        "      break\n",
        "print(n+sum)"
      ],
      "metadata": {
        "colab": {
          "base_uri": "https://localhost:8080/"
        },
        "id": "bletzPwaRzfa",
        "outputId": "d08096bb-b9d7-42ed-8464-dfc01342d65b"
      },
      "execution_count": null,
      "outputs": [
        {
          "output_type": "stream",
          "name": "stdout",
          "text": [
            "5\n",
            "ab\n",
            "aa\n",
            "aca\n",
            "ba\n",
            "bb\n",
            "4\n"
          ]
        }
      ]
    },
    {
      "cell_type": "code",
      "source": [
        "# baekjoon 2798\n",
        "\n",
        "a,b = map(int, input().split())\n",
        "L = list(map(int, input().split()))\n",
        "max = 0\n",
        "for i in range(a):\n",
        "  x = L[i]\n",
        "  for j in range(i+1, a):\n",
        "    y = L[j]\n",
        "    for k in range(j+1, a):\n",
        "      z = L[k]\n",
        "      if b < x+y+z:\n",
        "        continue\n",
        "      elif x+y+z > max:\n",
        "        max = x+y+z\n",
        "print(max)"
      ],
      "metadata": {
        "colab": {
          "base_uri": "https://localhost:8080/"
        },
        "id": "aHlQoNjLAjMw",
        "outputId": "4e65f95a-9995-4b1b-8c26-1c6227454c42"
      },
      "execution_count": null,
      "outputs": [
        {
          "output_type": "stream",
          "name": "stdout",
          "text": [
            "10 500\n",
            "93 181 245 214 315 36 185 138 216 295\n",
            "497\n"
          ]
        }
      ]
    },
    {
      "cell_type": "code",
      "source": [
        "# baekjoon 2231\n",
        "# ans 198 = 1 + 9 + 8 + 198\n",
        "\n",
        "num = int(input())\n",
        "ans = 0\n",
        "result = 0\n",
        "while result != num:\n",
        "  ans += 1\n",
        "  result = ans + ans%10 + (ans%100)//10 + (ans%1000)//100 + (ans%10000)//1000 + (ans%100000)//10000 +(ans%1000000)//100000\n",
        "  if ans >= num:\n",
        "    ans = 0\n",
        "    break\n",
        "print(ans)"
      ],
      "metadata": {
        "id": "jAyJt5JJnVKH",
        "colab": {
          "base_uri": "https://localhost:8080/"
        },
        "outputId": "52beefd7-4505-4d57-a331-4090827b6b8b"
      },
      "execution_count": null,
      "outputs": [
        {
          "output_type": "stream",
          "name": "stdout",
          "text": [
            "1000000\n",
            "0\n"
          ]
        }
      ]
    },
    {
      "cell_type": "code",
      "source": [
        "# baekjoon 7568\n",
        "\n",
        "C = int(input())\n",
        "L = []\n",
        "for i in range(C):\n",
        "  w, h = map(int, input().split())\n",
        "  L.append([w,h])\n",
        "\n",
        "ans = []\n",
        "for i in L:\n",
        "  rank = 1\n",
        "  for j in L:\n",
        "    if j[0] > i[0] and j[1] > i[1]:\n",
        "      rank += 1\n",
        "  ans.append(str(rank))\n",
        "\n",
        "print(' '.join(ans))"
      ],
      "metadata": {
        "colab": {
          "base_uri": "https://localhost:8080/"
        },
        "id": "EZQjl0Sb_W4c",
        "outputId": "7da0b644-2686-4a1f-9035-7ccb044c5cda"
      },
      "execution_count": null,
      "outputs": [
        {
          "output_type": "stream",
          "name": "stdout",
          "text": [
            "5\n",
            "55 185\n",
            "58 183\n",
            "88 186\n",
            "60 175\n",
            "46 155\n",
            "2 2 1 2 5\n"
          ]
        }
      ]
    },
    {
      "cell_type": "code",
      "source": [
        "# baekjoon 1018 - chess board\n",
        "\n",
        "c, r = map(int, input().split())\n",
        "\n",
        "m = []\n",
        "for i in range(c):\n",
        "  s = input()\n",
        "  mc = []\n",
        "  for j in s:\n",
        "    mc.append(j)\n",
        "  m.append(mc)\n",
        "\n",
        "ans = 64\n",
        "for i in range(c-7):\n",
        "  for j in range(r-7):\n",
        "    result1 = 0\n",
        "    result2 = 64\n",
        "    col = m[i][j]\n",
        "\n",
        "    for _ in range(i, i+8):\n",
        "      for __ in range(j, j+8):\n",
        "        if (_-i + __-j) % 2 == 0 and m[_][__] != col:\n",
        "          result1 += 1\n",
        "          result2 -= 1\n",
        "        elif (_-i + __-j) %2 == 1 and m[_][__] == col:\n",
        "          result1 += 1\n",
        "          result2 -= 1\n",
        "\n",
        "    result = min(result1, result2)\n",
        "    if result < ans:\n",
        "      ans = result\n",
        "\n",
        "print(ans)"
      ],
      "metadata": {
        "colab": {
          "base_uri": "https://localhost:8080/"
        },
        "id": "TfKvPpcmFrOq",
        "outputId": "ea08a108-3fb4-4251-db8e-39ffe99cc229"
      },
      "execution_count": null,
      "outputs": [
        {
          "output_type": "stream",
          "name": "stdout",
          "text": [
            "9 23\n",
            "BBBBBBBBBBBBBBBBBBBBBBB\n",
            "BBBBBBBBBBBBBBBBBBBBBBB\n",
            "BBBBBBBBBBBBBBBBBBBBBBB\n",
            "BBBBBBBBBBBBBBBBBBBBBBB\n",
            "BBBBBBBBBBBBBBBBBBBBBBB\n",
            "BBBBBBBBBBBBBBBBBBBBBBB\n",
            "BBBBBBBBBBBBBBBBBBBBBBB\n",
            "BBBBBBBBBBBBBBBBBBBBBBB\n",
            "BBBBBBBBBBBBBBBBBBBBBBW\n",
            "31\n"
          ]
        }
      ]
    },
    {
      "cell_type": "code",
      "source": [
        "## baekjoon 1026\n",
        "\n",
        "s = int(input())\n",
        "a = list(map(int, input().split()))\n",
        "b = list(map(int, input().split()))\n",
        "\n",
        "a.sort()\n",
        "b.sort(reverse=True)\n",
        "\n",
        "sum = 0\n",
        "for i in range(s):\n",
        "  sum += a[i]*b[i]\n",
        "\n",
        "print(sum)"
      ],
      "metadata": {
        "colab": {
          "base_uri": "https://localhost:8080/"
        },
        "id": "yK_EafUQQuL9",
        "outputId": "f4b761b7-f662-4c5f-ac09-42413ee6ddc8"
      },
      "execution_count": null,
      "outputs": [
        {
          "output_type": "stream",
          "name": "stdout",
          "text": [
            "3\n",
            "1 1 3\n",
            "10 30 20\n",
            "80\n"
          ]
        }
      ]
    },
    {
      "cell_type": "code",
      "source": [
        "# baekjoon 1436\n",
        "\n",
        "n = int(input())\n",
        "six = 666\n",
        "count = 0\n",
        "\n",
        "while True:\n",
        "  if '666' in str(six):\n",
        "    count +=1\n",
        "  if count == n:\n",
        "    print(six)\n",
        "    break\n",
        "  six += 1"
      ],
      "metadata": {
        "id": "hH33OYcIMoBm",
        "colab": {
          "base_uri": "https://localhost:8080/"
        },
        "outputId": "bcf62626-0cfe-43db-f511-d2bbf62efe3a"
      },
      "execution_count": null,
      "outputs": [
        {
          "output_type": "stream",
          "name": "stdout",
          "text": [
            "500\n",
            "166699\n"
          ]
        }
      ]
    },
    {
      "cell_type": "code",
      "source": [
        "# beakjoon 2738 - matrix addition\n",
        "n, m = list(map(int, input().split()))\n",
        "\n",
        "mat1 = []\n",
        "mat2 = []\n",
        "for i in range(n):\n",
        "  mat1.append(list(map(int, input().split())))\n",
        "for i in range(n):\n",
        "  mat2.append(list(map(int, input().split())))\n",
        "\n",
        "mat = []\n",
        "for i in range(n):\n",
        "  mat.append([])\n",
        "  for j in range(m):\n",
        "    mat[i].append([])\n",
        "    mat[i][j] = mat1[i][j] + mat2[i][j]\n",
        "\n",
        "\n",
        "for i in mat:\n",
        "  out = \"\"\n",
        "  for j in i:\n",
        "    out += str(j) + ' '\n",
        "  print(out)"
      ],
      "metadata": {
        "colab": {
          "base_uri": "https://localhost:8080/"
        },
        "id": "HQ4LzMr2r2rD",
        "outputId": "c9912d1b-c02a-4778-c8ac-628a37c03253"
      },
      "execution_count": null,
      "outputs": [
        {
          "output_type": "stream",
          "name": "stdout",
          "text": [
            "3 3\n",
            "1 1 1\n",
            "2 2 2\n",
            "0 1 0\n",
            "3 3 3\n",
            "4 4 4\n",
            "5 5 100\n",
            "4 4 4 \n",
            "6 6 6 \n",
            "5 6 100 \n"
          ]
        }
      ]
    },
    {
      "cell_type": "code",
      "source": [
        "# baekjoon 2566 - max value of 9 by 9 matrix\n",
        "\n",
        "a = 0\n",
        "x = 1\n",
        "y = 1\n",
        "for i in range(9):\n",
        "  row = list(map(int, input().split()))\n",
        "  for j in range(9):\n",
        "    if row[j] > a:\n",
        "      a = row[j]\n",
        "      x = i +1\n",
        "      y = j +1\n",
        "print(a)\n",
        "print(x, y)"
      ],
      "metadata": {
        "colab": {
          "base_uri": "https://localhost:8080/"
        },
        "id": "pQrCnH85rejX",
        "outputId": "41c0a6b3-5c63-4520-fb6d-69085c8d21d4"
      },
      "execution_count": null,
      "outputs": [
        {
          "output_type": "stream",
          "name": "stdout",
          "text": [
            "3 23 85 34 17 74 25 52 65\n",
            "10 7 39 42 88 52 14 72 63\n",
            "87 42 18 78 53 45 18 84 53\n",
            "34 28 64 85 12 16 75 36 55\n",
            "21 77 45 35 28 75 90 76 1\n",
            "25 87 65 15 28 11 37 28 74\n",
            "65 27 75 41 7 89 78 64 39\n",
            "47 47 70 45 23 65 3 41 44\n",
            "87 13 82 38 31 12 29 29 80\n",
            "90\n",
            "4 6\n"
          ]
        }
      ]
    },
    {
      "cell_type": "code",
      "source": [
        "# baekjoon 2563 - colored paper sheet\n",
        "\n",
        "paperNum = int(input())\n",
        "coordinate = []\n",
        "for i in range(paperNum):\n",
        "  coordinate.append(list(map(int, input().split())))\n",
        "coordinate.sort()\n",
        "\n",
        "result = 100\n",
        "for i in range(len(coordinate)):\n",
        "  if i+1 == len(coordinate):\n",
        "    break\n",
        "  if (abs(coordinate[i][0] - coordinate[i+1][0]) < 10) and (abs(coordinate[i][1] - coordinate[i+1][1]) < 10):\n",
        "    result += 100 - (10-abs(coordinate[i][0]-coordinate[i+1][0]))*(10-abs(coordinate[i][1]-coordinate[i+1][1]))\n",
        "  else:\n",
        "    result += 100\n",
        "\n",
        "print(result)"
      ],
      "metadata": {
        "colab": {
          "base_uri": "https://localhost:8080/"
        },
        "id": "SLv1DJMMuL4b",
        "outputId": "ea34ef11-1948-4c26-9fee-95526691d9cf"
      },
      "execution_count": null,
      "outputs": [
        {
          "output_type": "stream",
          "name": "stdout",
          "text": [
            "0\n",
            "100\n"
          ]
        }
      ]
    },
    {
      "cell_type": "code",
      "source": [
        "# baekjoon 2563\n",
        "\n",
        "space = []\n",
        "for i in range(100):\n",
        "  space.append(['0 '*100])\n",
        "  space[i] = space[i][0].split()\n",
        "\n",
        "num = int(input())\n",
        "paper = []\n",
        "for i in range(num):\n",
        "  x, y = map(int, input().split())\n",
        "  for a in range(10):\n",
        "    for b in range(10):\n",
        "      space[x+a][y+b] = '1'\n",
        "\n",
        "sum = 0\n",
        "for i in range(100):\n",
        "  sum += space[i].count('1')\n",
        "print(sum)"
      ],
      "metadata": {
        "id": "8cczSR9MwDcL",
        "colab": {
          "base_uri": "https://localhost:8080/"
        },
        "outputId": "167d213a-12ff-44ec-c0a0-a6e55c0787f5"
      },
      "execution_count": null,
      "outputs": [
        {
          "output_type": "stream",
          "name": "stdout",
          "text": [
            "3\n",
            "1 1\n",
            "1 1\n",
            "1 1\n",
            "100\n"
          ]
        }
      ]
    },
    {
      "cell_type": "code",
      "source": [
        "# baekjoon 1764\n",
        "\n",
        "def binarySearch(arr, low, high, x):\n",
        "  if high >= low:\n",
        "    mid = (high+low) // 2\n",
        "    if arr[mid] == x:\n",
        "      return mid\n",
        "    elif arr[mid] > x:\n",
        "      return binarySearch(arr, low, mid-1, x)\n",
        "    else:\n",
        "      return binarySearch(arr, mid+1, high, x)\n",
        "  else:\n",
        "    return -1\n",
        "\n",
        "n, m = map(int, input().split())\n",
        "\n",
        "listen = []\n",
        "hear = []\n",
        "\n",
        "for i in range(n):\n",
        "  listen.append(input())\n",
        "for j in range(m):\n",
        "  hear.append(input())\n",
        "\n",
        "listen.sort()\n",
        "hear.sort()\n",
        "\n",
        "result = []\n",
        "for i in listen:\n",
        "  both = binarySearch(hear, 0, len(hear)-1, i)\n",
        "  if both != -1:\n",
        "    result.append(i)\n",
        "\n",
        "print(len(result))\n",
        "for i in result:\n",
        "  print(i)"
      ],
      "metadata": {
        "colab": {
          "base_uri": "https://localhost:8080/"
        },
        "id": "lMetmhlXFij7",
        "outputId": "560fa46c-b9c2-49f7-d573-d13a34c8a267"
      },
      "execution_count": null,
      "outputs": [
        {
          "output_type": "stream",
          "name": "stdout",
          "text": [
            "3 4\n",
            "ohhenrie\n",
            "charlie\n",
            "baesangwook\n",
            "obama\n",
            "baesangwook\n",
            "ohhenrie\n",
            "clinton\n",
            "2\n",
            "baesangwook\n",
            "ohhenrie\n"
          ]
        }
      ]
    },
    {
      "cell_type": "code",
      "source": [
        "# baekjoon 24416 - time complexity of DP and recursive func\n",
        "num = int(input())\n",
        "\n",
        "f = []\n",
        "def fibonacci(n):\n",
        "  global f\n",
        "  f.append(1)\n",
        "  f.append(1)\n",
        "  for i in range(2, n):\n",
        "    f.append(f[-2] + f[-1])\n",
        "  return f[n-1]\n",
        "\n",
        "print(fibonacci(num), num-2)"
      ],
      "metadata": {
        "colab": {
          "base_uri": "https://localhost:8080/"
        },
        "id": "5AYF13wVTlMy",
        "outputId": "b6dda561-b5d4-4d6f-cf6a-26f1b133c58c"
      },
      "execution_count": null,
      "outputs": [
        {
          "output_type": "stream",
          "name": "stdout",
          "text": [
            "30\n",
            "832040 28\n"
          ]
        }
      ]
    },
    {
      "cell_type": "code",
      "source": [
        "# baekjoon 14425\n",
        "\n",
        "n,m = map(int, input().split())\n",
        "\n",
        "stringList = []\n",
        "for i in range(n):\n",
        "  stringList.append(input())\n",
        "\n",
        "setOfElements = []\n",
        "for j in range(m):\n",
        "  setOfElements.append(input())\n",
        "\n",
        "def binarySearch(arr, low, high, x):\n",
        "  if high >= low:\n",
        "    mid = (high+low) // 2\n",
        "    if arr[mid] == x:\n",
        "      return mid\n",
        "    elif arr[mid] > x:\n",
        "      return binarySearch(arr, low, mid-1, x)\n",
        "    else:\n",
        "      return binarySearch(arr, mid+1, high, x)\n",
        "  else:\n",
        "    return -1\n",
        "\n",
        "stringList.sort()\n",
        "\n",
        "result = 0\n",
        "for i in setOfElements:\n",
        "  temp = binarySearch(stringList, 0, len(stringList)-1, i)\n",
        "  if temp != -1:\n",
        "    result += 1\n",
        "\n",
        "print(result)"
      ],
      "metadata": {
        "colab": {
          "base_uri": "https://localhost:8080/"
        },
        "id": "x3gdclYHRmfR",
        "outputId": "84c58ff7-5228-4d64-ed64-fdcce976a73d"
      },
      "execution_count": null,
      "outputs": [
        {
          "output_type": "stream",
          "name": "stdout",
          "text": [
            "5 11\n",
            "baekjoononlinejudge\n",
            "startlink\n",
            "codeplus\n",
            "sundaycoding\n",
            "codingsh\n",
            "baekjoon\n",
            "codeplus\n",
            "codeminus\n",
            "startlink\n",
            "starlink\n",
            "sundaycoding\n",
            "codingsh\n",
            "codinghs\n",
            "sondaycoding\n",
            "startrink\n",
            "icerink\n",
            "4\n"
          ]
        }
      ]
    },
    {
      "cell_type": "code",
      "source": [
        "import sys\n",
        "N, M = map(int, input().split())\n",
        "board = [list(map(int, sys.stdin.readline().split())) for _ in range(N)]\n",
        "visited = [[0]*M for _ in range(N)]\n",
        "print(visited, *visited)"
      ],
      "metadata": {
        "colab": {
          "base_uri": "https://localhost:8080/"
        },
        "id": "CnqVgULKWRHs",
        "outputId": "f15b5dce-85ec-4d73-8104-77de28371362"
      },
      "execution_count": null,
      "outputs": [
        {
          "output_type": "stream",
          "name": "stdout",
          "text": [
            "3 3\n",
            "[[0, 0, 0], [0, 0, 0], [0, 0, 0]] [0, 0, 0] [0, 0, 0] [0, 0, 0]\n"
          ]
        }
      ]
    },
    {
      "cell_type": "code",
      "source": [
        "#baekjoon 2477\n",
        "\n",
        "a = int(input())\n",
        "dirMap = []\n",
        "lengthMap = []\n",
        "while True:\n",
        "  try:\n",
        "    dir, length = map(int, input().split())\n",
        "    lengthMap.append(length)\n",
        "    dirMap.append(dir)\n",
        "  except:\n",
        "    break\n",
        "for i in range(len(dirMap)):\n",
        "  print(dirMap[i])"
      ],
      "metadata": {
        "colab": {
          "base_uri": "https://localhost:8080/"
        },
        "id": "_a_v2BGRow-3",
        "outputId": "aaf24438-b267-48d0-f2a2-1315fb4530f5"
      },
      "execution_count": null,
      "outputs": [
        {
          "output_type": "stream",
          "name": "stdout",
          "text": [
            "1\n",
            "3 1\n",
            "4 50\n",
            "2 10\n",
            "\n",
            "3\n",
            "4\n",
            "2\n"
          ]
        }
      ]
    },
    {
      "cell_type": "code",
      "source": [
        "# baekjoon 10828\n",
        "import sys\n",
        "\n",
        "iter = int(input())\n",
        "stack = []\n",
        "\n",
        "def dataToCommand(x):\n",
        "  if x == 'empty':\n",
        "    return empty()\n",
        "  elif x == 'top':\n",
        "    return top()\n",
        "  elif x == 'size':\n",
        "    return size()\n",
        "  elif x == 'pop':\n",
        "    return pop()\n",
        "\n",
        "def push(x):\n",
        "  stack.append(x)\n",
        "\n",
        "def empty():\n",
        "  if len(stack) == 0:\n",
        "    return 1\n",
        "  else:\n",
        "    return 0\n",
        "\n",
        "def top():\n",
        "  if empty() == 1:\n",
        "    return -1\n",
        "  else:\n",
        "    return stack[-1]\n",
        "\n",
        "def size():\n",
        "  if empty() == 1:\n",
        "    return 0\n",
        "  else:\n",
        "    return len(stack)\n",
        "\n",
        "def pop():\n",
        "  if empty() == 1:\n",
        "    return -1\n",
        "  else:\n",
        "    return stack.pop()\n",
        "\n",
        "for i in range(iter):\n",
        "#  command = sys.stdin.readline().split()\n",
        "  command = input().split()\n",
        "  if command[0] == 'push':\n",
        "    push(int(command[1]))\n",
        "  else:\n",
        "    print(dataToCommand(command[0]))"
      ],
      "metadata": {
        "colab": {
          "base_uri": "https://localhost:8080/"
        },
        "id": "7iXoUYPznvp1",
        "outputId": "1fd4d7c4-9691-44b4-9448-7e037d2e8e78"
      },
      "execution_count": null,
      "outputs": [
        {
          "output_type": "stream",
          "name": "stdout",
          "text": [
            "3\n",
            "push 123\n",
            "pop\n",
            "123\n",
            "pop\n",
            "-1\n"
          ]
        }
      ]
    },
    {
      "cell_type": "code",
      "source": [
        "# baekjoon 10773\n",
        "\n",
        "iter = int(input())\n",
        "\n",
        "jaemin = []\n",
        "for i in range(iter):\n",
        "  num = int(input())\n",
        "  if num == 0:\n",
        "    del jaemin[-1]\n",
        "  else:\n",
        "    jaemin.append(num)\n",
        "print(sum(jaemin))"
      ],
      "metadata": {
        "id": "Ji3GV_7h1Po7",
        "colab": {
          "base_uri": "https://localhost:8080/"
        },
        "outputId": "38ebb977-36cd-4bb3-fa32-a4f0a88403d2"
      },
      "execution_count": null,
      "outputs": [
        {
          "output_type": "stream",
          "name": "stdout",
          "text": [
            "3\n",
            "123\n",
            "5\n",
            "0\n",
            "123\n"
          ]
        }
      ]
    },
    {
      "cell_type": "code",
      "source": [
        "# baekjoon 9012\n",
        "\n",
        "iter = int(input())\n",
        "for i in range(iter):\n",
        "  left = 0\n",
        "  right = 0\n",
        "  string = input()\n",
        "  for j in string:\n",
        "    if j == \"(\":\n",
        "      left += 1\n",
        "    elif j == \")\":\n",
        "      right += 1\n",
        "    if right > left:\n",
        "      break\n",
        "  if right == left:\n",
        "    print('YES')\n",
        "  else:\n",
        "    print('NO')"
      ],
      "metadata": {
        "colab": {
          "base_uri": "https://localhost:8080/"
        },
        "id": "pbIUYuDfQOJN",
        "outputId": "052d7214-5f28-4c05-c5d5-0890578c2b88"
      },
      "execution_count": null,
      "outputs": [
        {
          "output_type": "stream",
          "name": "stdout",
          "text": [
            "1\n",
            "()(()()\n",
            "NO\n"
          ]
        }
      ]
    },
    {
      "cell_type": "code",
      "source": [
        "# baekjoon 4949\n",
        "\n",
        "import re\n",
        "import sys\n",
        "\n",
        "sentences = []\n",
        "while True:\n",
        "  sentence = input()\n",
        "  #sentence = sys.stdin.readline().rstrip()\n",
        "  if sentence == '.':\n",
        "    break\n",
        "  sentences.append(sentence)\n",
        "\n",
        "bracket = re.compile(r'[^ .A-Za-z0-9+]')\n",
        "for i in sentences:\n",
        "  data = \"\".join(bracket.findall(i))\n",
        "  while ('()' in data) or ('[]' in data):\n",
        "    data = data.replace('()','')\n",
        "    data = data.replace('[]','')\n",
        "  if data:\n",
        "    print('no')\n",
        "  else:\n",
        "    print('yes')"
      ],
      "metadata": {
        "colab": {
          "base_uri": "https://localhost:8080/"
        },
        "id": "dhJtYtg_TeLc",
        "outputId": "4cc9379e-7f7b-450f-f5b9-ef4f49574983"
      },
      "execution_count": null,
      "outputs": [
        {
          "output_type": "stream",
          "name": "stdout",
          "text": [
            "So when I die (the [first] I will see in (heaven) is a score list).\n",
            "[ first in ] ( first out ).\n",
            "Half Moon tonight (At least it is better than no Moon at all].\n",
            "A rope may form )( a trail in a maze.\n",
            " Help( I[m being held prisoner in a fortune cookie factory)].\n",
            " ([ (([( [ ] ) ( ) (( ))] )) ]).\n",
            "  .\n",
            ".\n",
            "yes\n",
            "yes\n",
            "no\n",
            "no\n",
            "no\n",
            "yes\n",
            "yes\n"
          ]
        }
      ]
    },
    {
      "cell_type": "code",
      "source": [
        "# baekjoon 1874 - stack\n",
        "\n",
        "import sys\n",
        "\n",
        "iter = int(sys.stdin.readline())\n",
        "high = 0\n",
        "command = []\n",
        "stack = []\n",
        "\n",
        "for i in range(iter):\n",
        "  pop = int(sys.stdin.readline())\n",
        "  if pop > high:\n",
        "    while high != pop:\n",
        "      high += 1\n",
        "      command.append('+')\n",
        "      stack.append(high)\n",
        "  if pop <= high:\n",
        "    command.append('-')\n",
        "    if pop != stack.pop():\n",
        "      print('NO')\n",
        "      break\n",
        "  if i+1 == iter:\n",
        "    print(\"\\n\".join(command))"
      ],
      "metadata": {
        "id": "w8z1g2_8ldrQ",
        "colab": {
          "base_uri": "https://localhost:8080/"
        },
        "outputId": "803d9377-17ff-43c9-c3ec-ee6774ea7ebc"
      },
      "execution_count": null,
      "outputs": [
        {
          "output_type": "stream",
          "name": "stdout",
          "text": [
            "5\n",
            "1\n",
            "2\n",
            "5\n",
            "3\n",
            "NO\n"
          ]
        }
      ]
    },
    {
      "cell_type": "code",
      "source": [
        "# baekjoon 9184\n",
        "\n",
        "dp =[[[0]*21 for _ in range(21)] for _ in range(21)]\n",
        "def w(a,b,c):\n",
        "  global dp\n",
        "  if a <= 0 or b <= 0 or c <= 0: return 1\n",
        "  elif a>20 or b>20 or c>20: return w(20,20,20)\n",
        "\n",
        "  if dp[a][b][c]: return dp[a][b][c]\n",
        "  elif a<b and b<c:\n",
        "    dp[a][b][c] = w(a,b,c-1)+w(a,b-1,c-1)-w(a,b-1,c)\n",
        "    return dp[a][b][c]\n",
        "  else:\n",
        "    dp[a][b][c] = w(a-1,b,c)+w(a-1,b-1,c)+w(a-1,b,c-1)-w(a-1,b-1,c-1)\n",
        "    return dp[a][b][c]\n",
        "\n",
        "while True:\n",
        "  a,b,c = map(int, input().split())\n",
        "  if a == -1 and b == -1 and c== -1:\n",
        "    break\n",
        "  else:\n",
        "    print(f'w({a}, {b}, {c}) = {w(a,b,c)}')"
      ],
      "metadata": {
        "colab": {
          "base_uri": "https://localhost:8080/"
        },
        "id": "Gk0QBOcHcPPQ",
        "outputId": "c7e126a1-2f07-49d3-ab92-089fbb132208"
      },
      "execution_count": null,
      "outputs": [
        {
          "name": "stdout",
          "output_type": "stream",
          "text": [
            "1 1 1\n",
            "w(1, 1, 1) = 2\n",
            "2 2 2\n",
            "w(2, 2, 2) = 4\n",
            "10 4 6\n",
            "w(10, 4, 6) = 523\n",
            "50 50 50\n",
            "w(50, 50, 50) = 1048576\n",
            "-1 7 18\n",
            "w(-1, 7, 18) = 1\n",
            "-1 -1 -1\n"
          ]
        }
      ]
    },
    {
      "cell_type": "code",
      "source": [
        "# baekjoon 1904\n",
        "\n",
        "num = int(input())\n",
        "dp = [1,2]\n",
        "for i in range(num-2):\n",
        "  dp.append((dp[i] + dp[i+1])%15746)\n",
        "print(dp[num-1])"
      ],
      "metadata": {
        "colab": {
          "base_uri": "https://localhost:8080/"
        },
        "id": "Ze4sC6hvkIts",
        "outputId": "18254ed1-25df-4cee-ae6e-1f3ed62612a1"
      },
      "execution_count": null,
      "outputs": [
        {
          "output_type": "stream",
          "name": "stdout",
          "text": [
            "5\n",
            "7\n"
          ]
        }
      ]
    },
    {
      "cell_type": "code",
      "source": [
        "# baekjoon 9461\n",
        "\n",
        "dp = [1,1,1,2,2,3]\n",
        "for i in range(6, 100):\n",
        "  dp.append(dp[i-5] + dp[i-1])\n",
        "\n",
        "iter = int(input())\n",
        "for i in range(iter):\n",
        "  num = int(input())\n",
        "  print(dp[num-1])"
      ],
      "metadata": {
        "colab": {
          "base_uri": "https://localhost:8080/"
        },
        "id": "xfclW74yN09J",
        "outputId": "2f6508c0-533c-4ee5-9dac-b88853526b03"
      },
      "execution_count": null,
      "outputs": [
        {
          "output_type": "stream",
          "name": "stdout",
          "text": [
            "2\n",
            "6\n",
            "3\n",
            "12\n",
            "16\n"
          ]
        }
      ]
    },
    {
      "cell_type": "code",
      "source": [
        "# baekjoon 1912\n",
        "\n",
        "n = int(input())\n",
        "series = list(map(int, input().split()))\n",
        "dp = [0]*n\n",
        "dp[0] = series[0]\n",
        "for i in range(1, n):\n",
        "    dp[i] = max(series[i], dp[i-1]+series[i])\n",
        "print(max(dp))"
      ],
      "metadata": {
        "colab": {
          "base_uri": "https://localhost:8080/"
        },
        "id": "wrD2e1gMdFpK",
        "outputId": "91247204-3e25-429e-83c9-91147829048a"
      },
      "execution_count": null,
      "outputs": [
        {
          "output_type": "stream",
          "name": "stdout",
          "text": [
            "10\n",
            "10 -4 3 1 5 6 -35 12 21 -1\n",
            "[10, 6, 9, 10, 15, 21, -14, 12, 33, 32]\n"
          ]
        }
      ]
    }
  ]
}